{
 "cells": [
  {
   "cell_type": "code",
   "execution_count": 1,
   "id": "029f3c88",
   "metadata": {},
   "outputs": [],
   "source": [
    "import pandas as pd\n",
    "import numpy as np\n",
    "import seaborn as sns\n",
    "import matplotlib.pyplot as plt\n",
    "%matplotlib inline\n",
    "import warnings\n",
    "warnings.filterwarnings(\"ignore\")\n"
   ]
  },
  {
   "cell_type": "code",
   "execution_count": 2,
   "id": "8f685641",
   "metadata": {},
   "outputs": [
    {
     "data": {
      "text/html": [
       "<div>\n",
       "<style scoped>\n",
       "    .dataframe tbody tr th:only-of-type {\n",
       "        vertical-align: middle;\n",
       "    }\n",
       "\n",
       "    .dataframe tbody tr th {\n",
       "        vertical-align: top;\n",
       "    }\n",
       "\n",
       "    .dataframe thead th {\n",
       "        text-align: right;\n",
       "    }\n",
       "</style>\n",
       "<table border=\"1\" class=\"dataframe\">\n",
       "  <thead>\n",
       "    <tr style=\"text-align: right;\">\n",
       "      <th></th>\n",
       "      <th>ID</th>\n",
       "      <th>LIMIT_BAL</th>\n",
       "      <th>SEX</th>\n",
       "      <th>EDUCATION</th>\n",
       "      <th>MARRIAGE</th>\n",
       "      <th>AGE</th>\n",
       "      <th>PAY_0</th>\n",
       "      <th>PAY_2</th>\n",
       "      <th>PAY_3</th>\n",
       "      <th>PAY_4</th>\n",
       "      <th>...</th>\n",
       "      <th>BILL_AMT4</th>\n",
       "      <th>BILL_AMT5</th>\n",
       "      <th>BILL_AMT6</th>\n",
       "      <th>PAY_AMT1</th>\n",
       "      <th>PAY_AMT2</th>\n",
       "      <th>PAY_AMT3</th>\n",
       "      <th>PAY_AMT4</th>\n",
       "      <th>PAY_AMT5</th>\n",
       "      <th>PAY_AMT6</th>\n",
       "      <th>default.payment.next.month</th>\n",
       "    </tr>\n",
       "  </thead>\n",
       "  <tbody>\n",
       "    <tr>\n",
       "      <th>0</th>\n",
       "      <td>1</td>\n",
       "      <td>20000.0</td>\n",
       "      <td>2</td>\n",
       "      <td>2</td>\n",
       "      <td>1</td>\n",
       "      <td>24</td>\n",
       "      <td>2</td>\n",
       "      <td>2</td>\n",
       "      <td>-1</td>\n",
       "      <td>-1</td>\n",
       "      <td>...</td>\n",
       "      <td>0.0</td>\n",
       "      <td>0.0</td>\n",
       "      <td>0.0</td>\n",
       "      <td>0.0</td>\n",
       "      <td>689.0</td>\n",
       "      <td>0.0</td>\n",
       "      <td>0.0</td>\n",
       "      <td>0.0</td>\n",
       "      <td>0.0</td>\n",
       "      <td>1</td>\n",
       "    </tr>\n",
       "    <tr>\n",
       "      <th>1</th>\n",
       "      <td>2</td>\n",
       "      <td>120000.0</td>\n",
       "      <td>2</td>\n",
       "      <td>2</td>\n",
       "      <td>2</td>\n",
       "      <td>26</td>\n",
       "      <td>-1</td>\n",
       "      <td>2</td>\n",
       "      <td>0</td>\n",
       "      <td>0</td>\n",
       "      <td>...</td>\n",
       "      <td>3272.0</td>\n",
       "      <td>3455.0</td>\n",
       "      <td>3261.0</td>\n",
       "      <td>0.0</td>\n",
       "      <td>1000.0</td>\n",
       "      <td>1000.0</td>\n",
       "      <td>1000.0</td>\n",
       "      <td>0.0</td>\n",
       "      <td>2000.0</td>\n",
       "      <td>1</td>\n",
       "    </tr>\n",
       "    <tr>\n",
       "      <th>2</th>\n",
       "      <td>3</td>\n",
       "      <td>90000.0</td>\n",
       "      <td>2</td>\n",
       "      <td>2</td>\n",
       "      <td>2</td>\n",
       "      <td>34</td>\n",
       "      <td>0</td>\n",
       "      <td>0</td>\n",
       "      <td>0</td>\n",
       "      <td>0</td>\n",
       "      <td>...</td>\n",
       "      <td>14331.0</td>\n",
       "      <td>14948.0</td>\n",
       "      <td>15549.0</td>\n",
       "      <td>1518.0</td>\n",
       "      <td>1500.0</td>\n",
       "      <td>1000.0</td>\n",
       "      <td>1000.0</td>\n",
       "      <td>1000.0</td>\n",
       "      <td>5000.0</td>\n",
       "      <td>0</td>\n",
       "    </tr>\n",
       "    <tr>\n",
       "      <th>3</th>\n",
       "      <td>4</td>\n",
       "      <td>50000.0</td>\n",
       "      <td>2</td>\n",
       "      <td>2</td>\n",
       "      <td>1</td>\n",
       "      <td>37</td>\n",
       "      <td>0</td>\n",
       "      <td>0</td>\n",
       "      <td>0</td>\n",
       "      <td>0</td>\n",
       "      <td>...</td>\n",
       "      <td>28314.0</td>\n",
       "      <td>28959.0</td>\n",
       "      <td>29547.0</td>\n",
       "      <td>2000.0</td>\n",
       "      <td>2019.0</td>\n",
       "      <td>1200.0</td>\n",
       "      <td>1100.0</td>\n",
       "      <td>1069.0</td>\n",
       "      <td>1000.0</td>\n",
       "      <td>0</td>\n",
       "    </tr>\n",
       "    <tr>\n",
       "      <th>4</th>\n",
       "      <td>5</td>\n",
       "      <td>50000.0</td>\n",
       "      <td>1</td>\n",
       "      <td>2</td>\n",
       "      <td>1</td>\n",
       "      <td>57</td>\n",
       "      <td>-1</td>\n",
       "      <td>0</td>\n",
       "      <td>-1</td>\n",
       "      <td>0</td>\n",
       "      <td>...</td>\n",
       "      <td>20940.0</td>\n",
       "      <td>19146.0</td>\n",
       "      <td>19131.0</td>\n",
       "      <td>2000.0</td>\n",
       "      <td>36681.0</td>\n",
       "      <td>10000.0</td>\n",
       "      <td>9000.0</td>\n",
       "      <td>689.0</td>\n",
       "      <td>679.0</td>\n",
       "      <td>0</td>\n",
       "    </tr>\n",
       "  </tbody>\n",
       "</table>\n",
       "<p>5 rows × 25 columns</p>\n",
       "</div>"
      ],
      "text/plain": [
       "   ID  LIMIT_BAL  SEX  EDUCATION  MARRIAGE  AGE  PAY_0  PAY_2  PAY_3  PAY_4  \\\n",
       "0   1    20000.0    2          2         1   24      2      2     -1     -1   \n",
       "1   2   120000.0    2          2         2   26     -1      2      0      0   \n",
       "2   3    90000.0    2          2         2   34      0      0      0      0   \n",
       "3   4    50000.0    2          2         1   37      0      0      0      0   \n",
       "4   5    50000.0    1          2         1   57     -1      0     -1      0   \n",
       "\n",
       "   ...  BILL_AMT4  BILL_AMT5  BILL_AMT6  PAY_AMT1  PAY_AMT2  PAY_AMT3  \\\n",
       "0  ...        0.0        0.0        0.0       0.0     689.0       0.0   \n",
       "1  ...     3272.0     3455.0     3261.0       0.0    1000.0    1000.0   \n",
       "2  ...    14331.0    14948.0    15549.0    1518.0    1500.0    1000.0   \n",
       "3  ...    28314.0    28959.0    29547.0    2000.0    2019.0    1200.0   \n",
       "4  ...    20940.0    19146.0    19131.0    2000.0   36681.0   10000.0   \n",
       "\n",
       "   PAY_AMT4  PAY_AMT5  PAY_AMT6  default.payment.next.month  \n",
       "0       0.0       0.0       0.0                           1  \n",
       "1    1000.0       0.0    2000.0                           1  \n",
       "2    1000.0    1000.0    5000.0                           0  \n",
       "3    1100.0    1069.0    1000.0                           0  \n",
       "4    9000.0     689.0     679.0                           0  \n",
       "\n",
       "[5 rows x 25 columns]"
      ]
     },
     "execution_count": 2,
     "metadata": {},
     "output_type": "execute_result"
    }
   ],
   "source": [
    "data = pd.read_csv(\"UCI_Credit_Card.csv\")\n",
    "data.head()"
   ]
  },
  {
   "cell_type": "code",
   "execution_count": 3,
   "id": "b639a579",
   "metadata": {},
   "outputs": [
    {
     "data": {
      "text/plain": [
       "0    23364\n",
       "1     6636\n",
       "Name: Fraud, dtype: int64"
      ]
     },
     "execution_count": 3,
     "metadata": {},
     "output_type": "execute_result"
    }
   ],
   "source": [
    "data=data.rename(columns={'default.payment.next.month':'Fraud'})\n",
    "data.Fraud.value_counts()"
   ]
  },
  {
   "cell_type": "code",
   "execution_count": 4,
   "id": "b65e5d12",
   "metadata": {},
   "outputs": [
    {
     "name": "stdout",
     "output_type": "stream",
     "text": [
      "Shape of X:  (30000, 24)\n",
      "Shape of y:  (30000,)\n"
     ]
    }
   ],
   "source": [
    "from sklearn.model_selection import train_test_split\n",
    "\n",
    "X = data.drop(\"Fraud\", axis = 1)\n",
    "y = data.Fraud\n",
    "\n",
    "print(\"Shape of X: \", X.shape)\n",
    "print(\"Shape of y: \", y.shape)"
   ]
  },
  {
   "cell_type": "code",
   "execution_count": 5,
   "id": "da96202c",
   "metadata": {},
   "outputs": [],
   "source": [
    "X_train, X_test, y_train, y_test = train_test_split(X, y, test_size = 0.2, random_state = 0)"
   ]
  },
  {
   "cell_type": "code",
   "execution_count": 6,
   "id": "c8a94431",
   "metadata": {},
   "outputs": [],
   "source": [
    "from sklearn.metrics import confusion_matrix, accuracy_score, precision_score, recall_score, f1_score\n",
    "\n",
    "def evaluate_model(y_test, y_pred):\n",
    "    print(\"Accuracy Score: \", accuracy_score(y_test, y_pred))\n",
    "    print(\"Precision Score: \", precision_score(y_test, y_pred))\n",
    "    print(\"Recall Score: \", recall_score(y_test, y_pred))\n",
    "    print(\"Confusion Matrix: \", confusion_matrix(y_test, y_pred))\n",
    "    print(\"F1 Score: \", f1_score(y_test,y_pred))\n",
    "    \n",
    "    df = {'y_Actual': y_test, 'y_Predicted': y_pred}\n",
    "\n",
    "    df1 = pd.DataFrame(df, columns = ['y_Actual','y_Predicted'])\n",
    "\n",
    "    clf_confusion_matrix = pd.crosstab(df['y_Predicted'], df['y_Actual'], rownames = ['Predicted'], colnames=['Actual'])\n",
    "\n",
    "    sns.heatmap(clf_confusion_matrix, annot=True)\n",
    "    plt.savefig('conf1.png')"
   ]
  },
  {
   "cell_type": "code",
   "execution_count": 7,
   "id": "ca5b0d37",
   "metadata": {},
   "outputs": [],
   "source": [
    "from sklearn.linear_model import LogisticRegression\n",
    "\n",
    "lr_clf = LogisticRegression(max_iter = 1000)\n",
    "lr_clf.fit(X_train, y_train)\n",
    "\n",
    "lr_clf_pred = lr_clf.predict(X_test)"
   ]
  },
  {
   "cell_type": "code",
   "execution_count": 8,
   "id": "889d22d7",
   "metadata": {},
   "outputs": [
    {
     "name": "stdout",
     "output_type": "stream",
     "text": [
      "Accuracy Score:  0.784\n",
      "Precision Score:  1.0\n",
      "Recall Score:  0.0007710100231303007\n",
      "Confusion Matrix:  [[4703    0]\n",
      " [1296    1]]\n",
      "F1 Score:  0.0015408320493066254\n"
     ]
    },
    {
     "data": {
      "image/png": "[encoded data removed]",
      "text/plain": [
       "<Figure size 432x288 with 2 Axes>"
      ]
     },
     "metadata": {
      "needs_background": "light"
     },
     "output_type": "display_data"
    }
   ],
   "source": [
    "y_pred = lr_clf.predict(X_test)\n",
    "evaluate_model(y_test, y_pred)"
   ]
  },
  {
   "cell_type": "code",
   "execution_count": 9,
   "id": "93d18913",
   "metadata": {},
   "outputs": [
    {
     "name": "stdout",
     "output_type": "stream",
     "text": [
      "Accuracy Score:  0.8195\n",
      "Precision Score:  0.7622549019607843\n",
      "Recall Score:  0.23978411719352352\n",
      "Confusion Matrix:  [[4606   97]\n",
      " [ 986  311]]\n",
      "F1 Score:  0.36480938416422287\n"
     ]
    },
    {
     "data": {
      "image/png": "[encoded data removed]",
      "text/plain": [
       "<Figure size 432x288 with 2 Axes>"
      ]
     },
     "metadata": {
      "needs_background": "light"
     },
     "output_type": "display_data"
    }
   ],
   "source": [
    "from sklearn.pipeline import make_pipeline\n",
    "from sklearn.preprocessing import StandardScaler\n",
    "\n",
    "lr_clf_pipe = make_pipeline(StandardScaler(), LogisticRegression())\n",
    "lr_clf_pipe.fit(X_train, y_train)\n",
    "\n",
    "y_pred1 = lr_clf_pipe.predict(X_test)\n",
    "evaluate_model(y_test, y_pred1)"
   ]
  },
  {
   "cell_type": "markdown",
   "id": "cbc78165",
   "metadata": {},
   "source": [
    "# Support Vector Classifier\n",
    "from sklearn.svm import SVC\n",
    "from sklearn.model_selection import GridSearchCV\n",
    "\n",
    "# defining parameter range\n",
    "param_grid = {'C': [0.1, 1, 10, 100, 1000],\n",
    "             'gamma': [1,0.1,0.01,0.001,0.0001],\n",
    "             'kernel': ['rbf']}\n",
    "grid = GridSearchCV(SVC(), param_grid, refit=True, verbose = 3)\n",
    "grid.fit(X_train, y_train)"
   ]
  },
  {
   "cell_type": "markdown",
   "id": "51db241b",
   "metadata": {},
   "source": [
    "grid.best_estimator_"
   ]
  },
  {
   "cell_type": "markdown",
   "id": "cd7fd90d",
   "metadata": {},
   "source": [
    "svc = SVC(C = 1000, gamma=0.0001)\n",
    "svc.fit(X_train, y_train)\n",
    "y_pred2 = svc.predict(X_test)\n",
    "evaluate_model(y_test, y_pred2)"
   ]
  },
  {
   "cell_type": "code",
   "execution_count": 10,
   "id": "65bfb341",
   "metadata": {},
   "outputs": [
    {
     "name": "stdout",
     "output_type": "stream",
     "text": [
      "Training Score: 0.819\n",
      "Test Score: 0.827\n"
     ]
    },
    {
     "data": {
      "text/plain": [
       "DecisionTreeClassifier(max_depth=6, max_features=0.8,\n",
       "                       min_impurity_decrease=0.0005, min_samples_leaf=0.01,\n",
       "                       min_samples_split=10, random_state=2)"
      ]
     },
     "execution_count": 10,
     "metadata": {},
     "output_type": "execute_result"
    }
   ],
   "source": [
    "from sklearn.tree import DecisionTreeClassifier\n",
    "from sklearn.model_selection import RandomizedSearchCV\n",
    "\n",
    "def randomized_search(params, runs =20, clf = DecisionTreeClassifier(random_state=2)):\n",
    "    rand_clf = RandomizedSearchCV(clf, params, n_iter=runs, cv=5, n_jobs=-1, random_state=2)\n",
    "    rand_clf.fit(X_train, y_train)\n",
    "    best_model = rand_clf.best_estimator_\n",
    "    best_score = rand_clf.best_score_\n",
    "    \n",
    "    print(\"Training Score: {:.3f}\".format(best_score))\n",
    "    y_pred = best_model.predict(X_test)\n",
    "    accuracy = accuracy_score(y_test, y_pred)\n",
    "    print(\"Test Score: {:.3f}\".format(accuracy))\n",
    "    \n",
    "    return best_model\n",
    "\n",
    "randomized_search(params={'criterion':['entropy','gini'],\n",
    "                     'splitter':['random','best'],\n",
    "                     'min_weight_fraction_leaf':[0.0,0.0025,0.005,0.0075,0.01],\n",
    "                     'min_samples_split':[2, 3, 4, 5, 6, 8, 10],\n",
    "                     'min_samples_leaf':[1, 0.01, 0.02, 0.03, 0.04],\n",
    "                     'min_impurity_decrease':[0.0, 0.0005, 0.005, 0.05, 0.10, 0.15, 0.2],\n",
    "                     'max_leaf_nodes':[10,15,20,25,30,45,50,None],\n",
    "                     'max_features':['auto', 0.95, 0.90, 0.85, 0.80, 0.75, 0.70],\n",
    "                     'max_depth':[None, 2, 4, 6, 8],\n",
    "                     'min_weight_fraction_leaf':[0.0, 0.0025, 0.005, 0.0075, 0.01, 0.05]})"
   ]
  },
  {
   "cell_type": "code",
   "execution_count": 11,
   "id": "49643680",
   "metadata": {},
   "outputs": [
    {
     "name": "stdout",
     "output_type": "stream",
     "text": [
      "Accuracy Score:  0.8295\n",
      "Precision Score:  0.7275747508305648\n",
      "Recall Score:  0.33770239013107173\n",
      "Confusion Matrix:  [[4539  164]\n",
      " [ 859  438]]\n",
      "F1 Score:  0.4612954186413902\n"
     ]
    },
    {
     "data": {
      "image/png": "[encoded data removed]",
      "text/plain": [
       "<Figure size 432x288 with 2 Axes>"
      ]
     },
     "metadata": {
      "needs_background": "light"
     },
     "output_type": "display_data"
    }
   ],
   "source": [
    "ds_clf = DecisionTreeClassifier(criterion='entropy', max_depth=2, max_features=0.95,\n",
    "                       max_leaf_nodes=45, min_samples_leaf=0.04,\n",
    "                       min_samples_split=6, random_state=2)\n",
    "\n",
    "ds_clf.fit(X_train, y_train)\n",
    "pred4 = ds_clf.predict(X_test)\n",
    "evaluate_model(y_test, pred4)"
   ]
  },
  {
   "cell_type": "code",
   "execution_count": 12,
   "id": "aec51568",
   "metadata": {},
   "outputs": [
    {
     "name": "stdout",
     "output_type": "stream",
     "text": [
      "Training Score: 0.820\n",
      "Test Score: 0.828\n"
     ]
    },
    {
     "data": {
      "text/plain": [
       "RandomForestClassifier(max_depth=4, max_features=0.9, min_samples_leaf=10,\n",
       "                       random_state=2)"
      ]
     },
     "execution_count": 12,
     "metadata": {},
     "output_type": "execute_result"
    }
   ],
   "source": [
    "from sklearn.ensemble import RandomForestClassifier\n",
    "\n",
    "randomized_search(params = {'min_samples_leaf':[1, 2, 4, 6, 8, 10, 20, 30],\n",
    "                     'min_impurity_decrease':[0.0, 0.001, 0.05, 0.10, 0.15, 0.2],\n",
    "                     'max_features':['auto', 0.95, 0.90, 0.85, 0.80, 0.75, 0.70, 0.65, 0.60, 0.55, 0.50, 0.45, 0.40],\n",
    "                     'max_depth':[None, 2, 4, 6, 8, 10, 20],\n",
    "                           }, clf = RandomForestClassifier(random_state=2))"
   ]
  },
  {
   "cell_type": "code",
   "execution_count": 13,
   "id": "21f43358",
   "metadata": {},
   "outputs": [
    {
     "name": "stdout",
     "output_type": "stream",
     "text": [
      "Accuracy Score:  0.8243333333333334\n",
      "Precision Score:  0.6644113667117727\n",
      "Recall Score:  0.37856592135697764\n",
      "Confusion Matrix:  [[4455  248]\n",
      " [ 806  491]]\n",
      "F1 Score:  0.4823182711198428\n"
     ]
    },
    {
     "data": {
      "image/png": "[encoded data removed]",
      "text/plain": [
       "<Figure size 432x288 with 2 Axes>"
      ]
     },
     "metadata": {
      "needs_background": "light"
     },
     "output_type": "display_data"
    }
   ],
   "source": [
    "rf_clf = RandomForestClassifier(max_features=0.55, min_samples_leaf=2, random_state=2)\n",
    "rf_clf.fit(X_train, y_train)\n",
    "pred5 = rf_clf.predict(X_test)\n",
    "evaluate_model(y_test, pred5)"
   ]
  },
  {
   "cell_type": "code",
   "execution_count": 14,
   "id": "53be0301",
   "metadata": {},
   "outputs": [
    {
     "name": "stdout",
     "output_type": "stream",
     "text": [
      "[0]\tvalidation_0-logloss:0.64957\n",
      "[1]\tvalidation_0-logloss:0.61391\n",
      "[2]\tvalidation_0-logloss:0.58417\n",
      "[3]\tvalidation_0-logloss:0.55963\n",
      "[4]\tvalidation_0-logloss:0.53926\n",
      "[5]\tvalidation_0-logloss:0.52183\n",
      "[6]\tvalidation_0-logloss:0.50710\n",
      "[7]\tvalidation_0-logloss:0.49462\n",
      "[8]\tvalidation_0-logloss:0.48389\n",
      "[9]\tvalidation_0-logloss:0.47486\n",
      "[10]\tvalidation_0-logloss:0.46716\n",
      "[11]\tvalidation_0-logloss:0.46069\n",
      "[12]\tvalidation_0-logloss:0.45495\n",
      "[13]\tvalidation_0-logloss:0.45011\n",
      "[14]\tvalidation_0-logloss:0.44603\n",
      "[15]\tvalidation_0-logloss:0.44212\n",
      "[16]\tvalidation_0-logloss:0.43920\n",
      "[17]\tvalidation_0-logloss:0.43656\n",
      "[18]\tvalidation_0-logloss:0.43438\n",
      "[19]\tvalidation_0-logloss:0.43266\n",
      "[20]\tvalidation_0-logloss:0.43089\n",
      "[21]\tvalidation_0-logloss:0.42957\n",
      "[22]\tvalidation_0-logloss:0.42824\n",
      "[23]\tvalidation_0-logloss:0.42687\n",
      "[24]\tvalidation_0-logloss:0.42598\n",
      "[25]\tvalidation_0-logloss:0.42539\n",
      "[26]\tvalidation_0-logloss:0.42479\n",
      "[27]\tvalidation_0-logloss:0.42418\n",
      "[28]\tvalidation_0-logloss:0.42370\n",
      "[29]\tvalidation_0-logloss:0.42313\n",
      "[30]\tvalidation_0-logloss:0.42266\n",
      "[31]\tvalidation_0-logloss:0.42243\n",
      "[32]\tvalidation_0-logloss:0.42206\n",
      "[33]\tvalidation_0-logloss:0.42169\n",
      "[34]\tvalidation_0-logloss:0.42155\n",
      "[35]\tvalidation_0-logloss:0.42103\n",
      "[36]\tvalidation_0-logloss:0.42079\n",
      "[37]\tvalidation_0-logloss:0.42060\n",
      "[38]\tvalidation_0-logloss:0.42038\n",
      "[39]\tvalidation_0-logloss:0.42031\n",
      "[40]\tvalidation_0-logloss:0.42028\n",
      "[41]\tvalidation_0-logloss:0.41979\n",
      "[42]\tvalidation_0-logloss:0.41962\n",
      "[43]\tvalidation_0-logloss:0.41962\n",
      "[44]\tvalidation_0-logloss:0.41935\n",
      "[45]\tvalidation_0-logloss:0.41930\n",
      "[46]\tvalidation_0-logloss:0.41924\n",
      "[47]\tvalidation_0-logloss:0.41907\n",
      "[48]\tvalidation_0-logloss:0.41874\n",
      "[49]\tvalidation_0-logloss:0.41863\n",
      "[50]\tvalidation_0-logloss:0.41850\n",
      "[51]\tvalidation_0-logloss:0.41851\n",
      "[52]\tvalidation_0-logloss:0.41863\n",
      "[53]\tvalidation_0-logloss:0.41854\n",
      "[54]\tvalidation_0-logloss:0.41848\n",
      "[55]\tvalidation_0-logloss:0.41853\n",
      "[56]\tvalidation_0-logloss:0.41838\n",
      "[57]\tvalidation_0-logloss:0.41844\n",
      "[58]\tvalidation_0-logloss:0.41840\n",
      "[59]\tvalidation_0-logloss:0.41829\n",
      "[60]\tvalidation_0-logloss:0.41834\n",
      "[61]\tvalidation_0-logloss:0.41838\n",
      "[62]\tvalidation_0-logloss:0.41844\n",
      "[63]\tvalidation_0-logloss:0.41851\n",
      "[64]\tvalidation_0-logloss:0.41837\n",
      "[65]\tvalidation_0-logloss:0.41828\n",
      "[66]\tvalidation_0-logloss:0.41834\n",
      "[67]\tvalidation_0-logloss:0.41829\n",
      "[68]\tvalidation_0-logloss:0.41826\n",
      "[69]\tvalidation_0-logloss:0.41835\n",
      "[70]\tvalidation_0-logloss:0.41841\n",
      "[71]\tvalidation_0-logloss:0.41846\n",
      "[72]\tvalidation_0-logloss:0.41844\n",
      "[73]\tvalidation_0-logloss:0.41850\n",
      "[74]\tvalidation_0-logloss:0.41854\n",
      "[75]\tvalidation_0-logloss:0.41837\n",
      "[76]\tvalidation_0-logloss:0.41817\n",
      "[77]\tvalidation_0-logloss:0.41819\n",
      "[78]\tvalidation_0-logloss:0.41822\n",
      "[79]\tvalidation_0-logloss:0.41823\n",
      "[80]\tvalidation_0-logloss:0.41820\n",
      "[81]\tvalidation_0-logloss:0.41823\n",
      "[82]\tvalidation_0-logloss:0.41825\n",
      "[83]\tvalidation_0-logloss:0.41825\n",
      "[84]\tvalidation_0-logloss:0.41827\n",
      "[85]\tvalidation_0-logloss:0.41815\n",
      "[86]\tvalidation_0-logloss:0.41817\n",
      "[87]\tvalidation_0-logloss:0.41831\n",
      "[88]\tvalidation_0-logloss:0.41820\n",
      "[89]\tvalidation_0-logloss:0.41822\n",
      "[90]\tvalidation_0-logloss:0.41826\n",
      "[91]\tvalidation_0-logloss:0.41830\n",
      "[92]\tvalidation_0-logloss:0.41829\n",
      "[93]\tvalidation_0-logloss:0.41830\n",
      "[94]\tvalidation_0-logloss:0.41825\n",
      "[95]\tvalidation_0-logloss:0.41827\n"
     ]
    },
    {
     "data": {
      "text/plain": [
       "XGBClassifier(base_score=0.5, booster='gbtree', callbacks=None,\n",
       "              colsample_bylevel=1, colsample_bynode=1, colsample_bytree=1.0,\n",
       "              early_stopping_rounds=None, enable_categorical=False,\n",
       "              eval_metric=None, gamma=0, gpu_id=-1, grow_policy='depthwise',\n",
       "              importance_type=None, interaction_constraints='',\n",
       "              learning_rate=0.1, max_bin=256, max_cat_to_onehot=4,\n",
       "              max_delta_step=0, max_depth=4, max_leaves=0, min_child_weight=1,\n",
       "              missing=nan, monotone_constraints='()', n_estimators=500,\n",
       "              n_jobs=0, num_parallel_tree=1, predictor='auto', random_state=0,\n",
       "              reg_alpha=0, reg_lambda=1, ...)"
      ]
     },
     "execution_count": 14,
     "metadata": {},
     "output_type": "execute_result"
    }
   ],
   "source": [
    "\n",
    "from xgboost import XGBClassifier\n",
    "xgb1 = XGBClassifier(colsample_bytree = 1.0,\n",
    "                    learning_rate = 0.1,\n",
    "                    max_depth =4,\n",
    "                    n_estimators = 500,\n",
    "                    subsample = 1.0)\n",
    "\n",
    "eval_set = [(X_test, y_test)]\n",
    "\n",
    "xgb1.fit(X_train, y_train, early_stopping_rounds=10, eval_metric='logloss', eval_set=eval_set, verbose=True)"
   ]
  },
  {
   "cell_type": "code",
   "execution_count": 15,
   "id": "7058664e",
   "metadata": {},
   "outputs": [
    {
     "name": "stdout",
     "output_type": "stream",
     "text": [
      "Accuracy Score:  0.8295\n",
      "Precision Score:  0.6962750716332379\n",
      "Recall Score:  0.3747108712413261\n",
      "Confusion Matrix:  [[4491  212]\n",
      " [ 811  486]]\n",
      "F1 Score:  0.4872180451127819\n"
     ]
    },
    {
     "data": {
      "image/png": "[encoded data removed]",
      "text/plain": [
       "<Figure size 432x288 with 2 Axes>"
      ]
     },
     "metadata": {
      "needs_background": "light"
     },
     "output_type": "display_data"
    }
   ],
   "source": [
    "pred6 = xgb1.predict(X_test)\n",
    "evaluate_model(y_test, pred6)"
   ]
  },
  {
   "cell_type": "code",
   "execution_count": 16,
   "id": "629806f7",
   "metadata": {},
   "outputs": [
    {
     "data": {
      "image/png": "[encoded data removed]",
      "text/plain": [
       "<Figure size 432x288 with 1 Axes>"
      ]
     },
     "metadata": {
      "needs_background": "light"
     },
     "output_type": "display_data"
    },
    {
     "data": {
      "text/plain": [
       "<Figure size 432x288 with 0 Axes>"
      ]
     },
     "metadata": {},
     "output_type": "display_data"
    }
   ],
   "source": [
    "from xgboost import plot_importance\n",
    "plot_importance(xgb1)\n",
    "plt.show()\n",
    "plt.savefig('xgb1.png')"
   ]
  },
  {
   "cell_type": "code",
   "execution_count": 17,
   "id": "15d7005c",
   "metadata": {},
   "outputs": [
    {
     "name": "stdout",
     "output_type": "stream",
     "text": [
      "Accuracy Score:  0.8251666666666667\n",
      "Precision Score:  0.6980830670926518\n",
      "Recall Score:  0.3369313801079414\n",
      "Confusion Matrix:  [[4514  189]\n",
      " [ 860  437]]\n",
      "F1 Score:  0.4544981799271971\n"
     ]
    },
    {
     "data": {
      "image/png": "[encoded data removed]",
      "text/plain": [
       "<Figure size 432x288 with 2 Axes>"
      ]
     },
     "metadata": {
      "needs_background": "light"
     },
     "output_type": "display_data"
    }
   ],
   "source": [
    "from sklearn.ensemble import GradientBoostingClassifier\n",
    "\n",
    "gbdt = GradientBoostingClassifier(n_estimators = 200, learning_rate = 0.1, max_depth=1, random_state=0)\n",
    "gbdt.fit(X_train, y_train)\n",
    "\n",
    "pred_gbdt = gbdt.predict(X_test)\n",
    "evaluate_model(y_test, pred_gbdt)"
   ]
  },
  {
   "cell_type": "code",
   "execution_count": null,
   "id": "21321906",
   "metadata": {},
   "outputs": [],
   "source": []
  }
 ],
 "metadata": {
  "kernelspec": {
   "display_name": "Python 3 (ipykernel)",
   "language": "python",
   "name": "python3"
  },
  "language_info": {
   "codemirror_mode": {
    "name": "ipython",
    "version": 3
   },
   "file_extension": ".py",
   "mimetype": "text/x-python",
   "name": "python",
   "nbconvert_exporter": "python",
   "pygments_lexer": "ipython3",
   "version": "3.9.7"
  }
 },
 "nbformat": 4,
 "nbformat_minor": 5
}
