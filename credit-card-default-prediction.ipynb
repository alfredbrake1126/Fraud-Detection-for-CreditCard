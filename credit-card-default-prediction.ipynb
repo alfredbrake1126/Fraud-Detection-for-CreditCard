{
 "cells": [
  {
   "cell_type": "markdown",
   "id": "ec0357d7",
   "metadata": {
    "papermill": {
     "duration": 0.059831,
     "end_time": "2022-04-29T19:36:34.385178",
     "exception": false,
     "start_time": "2022-04-29T19:36:34.325347",
     "status": "completed"
    },
    "tags": []
   },
   "source": [
    "This notebook aims to predict the probability of default payment by credit card client using the data provided. "
   ]
  },
  {
   "cell_type": "markdown",
   "id": "6542bb87",
   "metadata": {
    "papermill": {
     "duration": 0.057312,
     "end_time": "2022-04-29T19:36:34.502881",
     "exception": false,
     "start_time": "2022-04-29T19:36:34.445569",
     "status": "completed"
    },
    "tags": []
   },
   "source": [
    "### About Dataset\n"
   ]
  },
  {
   "cell_type": "markdown",
   "id": "5393fbbd",
   "metadata": {
    "papermill": {
     "duration": 0.057395,
     "end_time": "2022-04-29T19:36:34.618787",
     "exception": false,
     "start_time": "2022-04-29T19:36:34.561392",
     "status": "completed"
    },
    "tags": []
   },
   "source": [
    "This dataset contains information on default payments, demographic factors, credit data, history of payment, and bill statements of credit card clients in Taiwan from April 2005 to September 2005.\n",
    "\n",
    "There are 25 variables:\n",
    "\n",
    "* ID: ID of each client\n",
    "* LIMIT_BAL: Amount of given credit in NT dollars (includes individual and family/supplementary credit\n",
    "* SEX: Gender (1=male, 2=female)\n",
    "* EDUCATION: (1=graduate school, 2=university, 3=high school, 4=others, 5=unknown, 6=unknown)\n",
    "* MARRIAGE: Marital status (1=married, 2=single, 3=others)\n",
    "* AGE: Age in years\n",
    "* PAY_0: Repayment status in September, 2005 (-1=pay duly, 1=payment delay for one month, 2=payment delay for two months, … 8=payment delay for eight months, 9=payment delay for nine months and above)\n",
    "* PAY_2: Repayment status in August, 2005 (scale same as above)\n",
    "* PAY_3: Repayment status in July, 2005 (scale same as above)\n",
    "* PAY_4: Repayment status in June, 2005 (scale same as above)\n",
    "* PAY_5: Repayment status in May, 2005 (scale same as above)\n",
    "* PAY_6: Repayment status in April, 2005 (scale same as above)\n",
    "* BILL_AMT1: Amount of bill statement in September, 2005 (NT dollar)\n",
    "* BILL_AMT2: Amount of bill statement in August, 2005 (NT dollar)\n",
    "* BILL_AMT3: Amount of bill statement in July, 2005 (NT dollar)\n",
    "* BILL_AMT4: Amount of bill statement in June, 2005 (NT dollar)\n",
    "* BILL_AMT5: Amount of bill statement in May, 2005 (NT dollar)\n",
    "* BILL_AMT6: Amount of bill statement in April, 2005 (NT dollar)\n",
    "* PAY_AMT1: Amount of previous payment in September, 2005 (NT dollar)\n",
    "* PAY_AMT2: Amount of previous payment in August, 2005 (NT dollar)\n",
    "* PAY_AMT3: Amount of previous payment in July, 2005 (NT dollar)\n",
    "* PAY_AMT4: Amount of previous payment in June, 2005 (NT dollar)\n",
    "* PAY_AMT5: Amount of previous payment in May, 2005 (NT dollar)\n",
    "* PAY_AMT6: Amount of previous payment in April, 2005 (NT dollar)\n",
    "* default.payment.next.month: Default payment (1=yes, 0=no)"
   ]
  },
  {
   "cell_type": "markdown",
   "id": "e93196e5",
   "metadata": {
    "papermill": {
     "duration": 0.057116,
     "end_time": "2022-04-29T19:36:34.733301",
     "exception": false,
     "start_time": "2022-04-29T19:36:34.676185",
     "status": "completed"
    },
    "tags": []
   },
   "source": [
    "### Importing Packages"
   ]
  },
  {
   "cell_type": "code",
   "execution_count": 1,
   "id": "e4377523",
   "metadata": {
    "execution": {
     "iopub.execute_input": "2022-04-29T19:36:34.857570Z",
     "iopub.status.busy": "2022-04-29T19:36:34.856941Z",
     "iopub.status.idle": "2022-04-29T19:36:36.597029Z",
     "shell.execute_reply": "2022-04-29T19:36:36.596054Z"
    },
    "papermill": {
     "duration": 1.808714,
     "end_time": "2022-04-29T19:36:36.599757",
     "exception": false,
     "start_time": "2022-04-29T19:36:34.791043",
     "status": "completed"
    },
    "tags": []
   },
   "outputs": [],
   "source": [
    "#Packages related to general operating system & warnings\n",
    "import os \n",
    "import warnings\n",
    "warnings.filterwarnings('ignore')\n",
    "\n",
    "#Packages related to data importing, manipulation, exploratory data analysis, data understanding\n",
    "import numpy as np\n",
    "import pandas as pd\n",
    "from pandas import Series, DataFrame\n",
    "import scipy.stats as stats\n",
    "\n",
    "#Packages related to data visualizaiton\n",
    "import seaborn as sns\n",
    "import matplotlib.pyplot as plt\n",
    "%matplotlib inline\n",
    "\n",
    "#Modules related to split the data & gridsearch\n",
    "from sklearn.model_selection import train_test_split, GridSearchCV\n",
    "\n",
    "#Module related to calculation of metrics\n",
    "from sklearn import metrics\n",
    "\n",
    "from sklearn.preprocessing import StandardScaler, OneHotEncoder\n",
    "\n",
    "import statsmodels.formula.api as smf\n",
    "\n",
    "from sklearn.metrics import accuracy_score, confusion_matrix,classification_report\n",
    "\n",
    "from sklearn.linear_model import LogisticRegression, LinearRegression, ElasticNet, Lasso, Ridge\n",
    "from sklearn.neighbors import KNeighborsClassifier\n",
    "from sklearn.tree import DecisionTreeClassifier\n",
    "from sklearn.svm import LinearSVC, LinearSVR, SVC, SVR\n",
    "from sklearn.naive_bayes import BernoulliNB, MultinomialNB, GaussianNB"
   ]
  },
  {
   "cell_type": "markdown",
   "id": "ea04d906",
   "metadata": {
    "papermill": {
     "duration": 0.057438,
     "end_time": "2022-04-29T19:36:36.715759",
     "exception": false,
     "start_time": "2022-04-29T19:36:36.658321",
     "status": "completed"
    },
    "tags": []
   },
   "source": [
    "### Importing Dataset"
   ]
  },
  {
   "cell_type": "code",
   "execution_count": 2,
   "id": "e29c8042",
   "metadata": {
    "execution": {
     "iopub.execute_input": "2022-04-29T19:36:36.836820Z",
     "iopub.status.busy": "2022-04-29T19:36:36.836199Z",
     "iopub.status.idle": "2022-04-29T19:36:37.015216Z",
     "shell.execute_reply": "2022-04-29T19:36:37.014438Z"
    },
    "papermill": {
     "duration": 0.242146,
     "end_time": "2022-04-29T19:36:37.017443",
     "exception": false,
     "start_time": "2022-04-29T19:36:36.775297",
     "status": "completed"
    },
    "tags": []
   },
   "outputs": [],
   "source": [
    "df=pd.read_csv(\"UCI_Credit_Card.csv\")"
   ]
  },
  {
   "cell_type": "code",
   "execution_count": 3,
   "id": "221965f0",
   "metadata": {
    "execution": {
     "iopub.execute_input": "2022-04-29T19:36:37.138865Z",
     "iopub.status.busy": "2022-04-29T19:36:37.138300Z",
     "iopub.status.idle": "2022-04-29T19:36:37.181953Z",
     "shell.execute_reply": "2022-04-29T19:36:37.181317Z"
    },
    "papermill": {
     "duration": 0.106975,
     "end_time": "2022-04-29T19:36:37.184443",
     "exception": false,
     "start_time": "2022-04-29T19:36:37.077468",
     "status": "completed"
    },
    "tags": []
   },
   "outputs": [
    {
     "data": {
      "text/html": [
       "<div>\n",
       "<style scoped>\n",
       "    .dataframe tbody tr th:only-of-type {\n",
       "        vertical-align: middle;\n",
       "    }\n",
       "\n",
       "    .dataframe tbody tr th {\n",
       "        vertical-align: top;\n",
       "    }\n",
       "\n",
       "    .dataframe thead th {\n",
       "        text-align: right;\n",
       "    }\n",
       "</style>\n",
       "<table border=\"1\" class=\"dataframe\">\n",
       "  <thead>\n",
       "    <tr style=\"text-align: right;\">\n",
       "      <th></th>\n",
       "      <th>ID</th>\n",
       "      <th>LIMIT_BAL</th>\n",
       "      <th>SEX</th>\n",
       "      <th>EDUCATION</th>\n",
       "      <th>MARRIAGE</th>\n",
       "      <th>AGE</th>\n",
       "      <th>PAY_0</th>\n",
       "      <th>PAY_2</th>\n",
       "      <th>PAY_3</th>\n",
       "      <th>PAY_4</th>\n",
       "      <th>...</th>\n",
       "      <th>BILL_AMT4</th>\n",
       "      <th>BILL_AMT5</th>\n",
       "      <th>BILL_AMT6</th>\n",
       "      <th>PAY_AMT1</th>\n",
       "      <th>PAY_AMT2</th>\n",
       "      <th>PAY_AMT3</th>\n",
       "      <th>PAY_AMT4</th>\n",
       "      <th>PAY_AMT5</th>\n",
       "      <th>PAY_AMT6</th>\n",
       "      <th>default.payment.next.month</th>\n",
       "    </tr>\n",
       "  </thead>\n",
       "  <tbody>\n",
       "    <tr>\n",
       "      <th>0</th>\n",
       "      <td>1</td>\n",
       "      <td>20000.0</td>\n",
       "      <td>2</td>\n",
       "      <td>2</td>\n",
       "      <td>1</td>\n",
       "      <td>24</td>\n",
       "      <td>2</td>\n",
       "      <td>2</td>\n",
       "      <td>-1</td>\n",
       "      <td>-1</td>\n",
       "      <td>...</td>\n",
       "      <td>0.0</td>\n",
       "      <td>0.0</td>\n",
       "      <td>0.0</td>\n",
       "      <td>0.0</td>\n",
       "      <td>689.0</td>\n",
       "      <td>0.0</td>\n",
       "      <td>0.0</td>\n",
       "      <td>0.0</td>\n",
       "      <td>0.0</td>\n",
       "      <td>1</td>\n",
       "    </tr>\n",
       "    <tr>\n",
       "      <th>1</th>\n",
       "      <td>2</td>\n",
       "      <td>120000.0</td>\n",
       "      <td>2</td>\n",
       "      <td>2</td>\n",
       "      <td>2</td>\n",
       "      <td>26</td>\n",
       "      <td>-1</td>\n",
       "      <td>2</td>\n",
       "      <td>0</td>\n",
       "      <td>0</td>\n",
       "      <td>...</td>\n",
       "      <td>3272.0</td>\n",
       "      <td>3455.0</td>\n",
       "      <td>3261.0</td>\n",
       "      <td>0.0</td>\n",
       "      <td>1000.0</td>\n",
       "      <td>1000.0</td>\n",
       "      <td>1000.0</td>\n",
       "      <td>0.0</td>\n",
       "      <td>2000.0</td>\n",
       "      <td>1</td>\n",
       "    </tr>\n",
       "    <tr>\n",
       "      <th>2</th>\n",
       "      <td>3</td>\n",
       "      <td>90000.0</td>\n",
       "      <td>2</td>\n",
       "      <td>2</td>\n",
       "      <td>2</td>\n",
       "      <td>34</td>\n",
       "      <td>0</td>\n",
       "      <td>0</td>\n",
       "      <td>0</td>\n",
       "      <td>0</td>\n",
       "      <td>...</td>\n",
       "      <td>14331.0</td>\n",
       "      <td>14948.0</td>\n",
       "      <td>15549.0</td>\n",
       "      <td>1518.0</td>\n",
       "      <td>1500.0</td>\n",
       "      <td>1000.0</td>\n",
       "      <td>1000.0</td>\n",
       "      <td>1000.0</td>\n",
       "      <td>5000.0</td>\n",
       "      <td>0</td>\n",
       "    </tr>\n",
       "    <tr>\n",
       "      <th>3</th>\n",
       "      <td>4</td>\n",
       "      <td>50000.0</td>\n",
       "      <td>2</td>\n",
       "      <td>2</td>\n",
       "      <td>1</td>\n",
       "      <td>37</td>\n",
       "      <td>0</td>\n",
       "      <td>0</td>\n",
       "      <td>0</td>\n",
       "      <td>0</td>\n",
       "      <td>...</td>\n",
       "      <td>28314.0</td>\n",
       "      <td>28959.0</td>\n",
       "      <td>29547.0</td>\n",
       "      <td>2000.0</td>\n",
       "      <td>2019.0</td>\n",
       "      <td>1200.0</td>\n",
       "      <td>1100.0</td>\n",
       "      <td>1069.0</td>\n",
       "      <td>1000.0</td>\n",
       "      <td>0</td>\n",
       "    </tr>\n",
       "    <tr>\n",
       "      <th>4</th>\n",
       "      <td>5</td>\n",
       "      <td>50000.0</td>\n",
       "      <td>1</td>\n",
       "      <td>2</td>\n",
       "      <td>1</td>\n",
       "      <td>57</td>\n",
       "      <td>-1</td>\n",
       "      <td>0</td>\n",
       "      <td>-1</td>\n",
       "      <td>0</td>\n",
       "      <td>...</td>\n",
       "      <td>20940.0</td>\n",
       "      <td>19146.0</td>\n",
       "      <td>19131.0</td>\n",
       "      <td>2000.0</td>\n",
       "      <td>36681.0</td>\n",
       "      <td>10000.0</td>\n",
       "      <td>9000.0</td>\n",
       "      <td>689.0</td>\n",
       "      <td>679.0</td>\n",
       "      <td>0</td>\n",
       "    </tr>\n",
       "    <tr>\n",
       "      <th>5</th>\n",
       "      <td>6</td>\n",
       "      <td>50000.0</td>\n",
       "      <td>1</td>\n",
       "      <td>1</td>\n",
       "      <td>2</td>\n",
       "      <td>37</td>\n",
       "      <td>0</td>\n",
       "      <td>0</td>\n",
       "      <td>0</td>\n",
       "      <td>0</td>\n",
       "      <td>...</td>\n",
       "      <td>19394.0</td>\n",
       "      <td>19619.0</td>\n",
       "      <td>20024.0</td>\n",
       "      <td>2500.0</td>\n",
       "      <td>1815.0</td>\n",
       "      <td>657.0</td>\n",
       "      <td>1000.0</td>\n",
       "      <td>1000.0</td>\n",
       "      <td>800.0</td>\n",
       "      <td>0</td>\n",
       "    </tr>\n",
       "    <tr>\n",
       "      <th>6</th>\n",
       "      <td>7</td>\n",
       "      <td>500000.0</td>\n",
       "      <td>1</td>\n",
       "      <td>1</td>\n",
       "      <td>2</td>\n",
       "      <td>29</td>\n",
       "      <td>0</td>\n",
       "      <td>0</td>\n",
       "      <td>0</td>\n",
       "      <td>0</td>\n",
       "      <td>...</td>\n",
       "      <td>542653.0</td>\n",
       "      <td>483003.0</td>\n",
       "      <td>473944.0</td>\n",
       "      <td>55000.0</td>\n",
       "      <td>40000.0</td>\n",
       "      <td>38000.0</td>\n",
       "      <td>20239.0</td>\n",
       "      <td>13750.0</td>\n",
       "      <td>13770.0</td>\n",
       "      <td>0</td>\n",
       "    </tr>\n",
       "    <tr>\n",
       "      <th>7</th>\n",
       "      <td>8</td>\n",
       "      <td>100000.0</td>\n",
       "      <td>2</td>\n",
       "      <td>2</td>\n",
       "      <td>2</td>\n",
       "      <td>23</td>\n",
       "      <td>0</td>\n",
       "      <td>-1</td>\n",
       "      <td>-1</td>\n",
       "      <td>0</td>\n",
       "      <td>...</td>\n",
       "      <td>221.0</td>\n",
       "      <td>-159.0</td>\n",
       "      <td>567.0</td>\n",
       "      <td>380.0</td>\n",
       "      <td>601.0</td>\n",
       "      <td>0.0</td>\n",
       "      <td>581.0</td>\n",
       "      <td>1687.0</td>\n",
       "      <td>1542.0</td>\n",
       "      <td>0</td>\n",
       "    </tr>\n",
       "    <tr>\n",
       "      <th>8</th>\n",
       "      <td>9</td>\n",
       "      <td>140000.0</td>\n",
       "      <td>2</td>\n",
       "      <td>3</td>\n",
       "      <td>1</td>\n",
       "      <td>28</td>\n",
       "      <td>0</td>\n",
       "      <td>0</td>\n",
       "      <td>2</td>\n",
       "      <td>0</td>\n",
       "      <td>...</td>\n",
       "      <td>12211.0</td>\n",
       "      <td>11793.0</td>\n",
       "      <td>3719.0</td>\n",
       "      <td>3329.0</td>\n",
       "      <td>0.0</td>\n",
       "      <td>432.0</td>\n",
       "      <td>1000.0</td>\n",
       "      <td>1000.0</td>\n",
       "      <td>1000.0</td>\n",
       "      <td>0</td>\n",
       "    </tr>\n",
       "    <tr>\n",
       "      <th>9</th>\n",
       "      <td>10</td>\n",
       "      <td>20000.0</td>\n",
       "      <td>1</td>\n",
       "      <td>3</td>\n",
       "      <td>2</td>\n",
       "      <td>35</td>\n",
       "      <td>-2</td>\n",
       "      <td>-2</td>\n",
       "      <td>-2</td>\n",
       "      <td>-2</td>\n",
       "      <td>...</td>\n",
       "      <td>0.0</td>\n",
       "      <td>13007.0</td>\n",
       "      <td>13912.0</td>\n",
       "      <td>0.0</td>\n",
       "      <td>0.0</td>\n",
       "      <td>0.0</td>\n",
       "      <td>13007.0</td>\n",
       "      <td>1122.0</td>\n",
       "      <td>0.0</td>\n",
       "      <td>0</td>\n",
       "    </tr>\n",
       "  </tbody>\n",
       "</table>\n",
       "<p>10 rows × 25 columns</p>\n",
       "</div>"
      ],
      "text/plain": [
       "   ID  LIMIT_BAL  SEX  EDUCATION  MARRIAGE  AGE  PAY_0  PAY_2  PAY_3  PAY_4  \\\n",
       "0   1    20000.0    2          2         1   24      2      2     -1     -1   \n",
       "1   2   120000.0    2          2         2   26     -1      2      0      0   \n",
       "2   3    90000.0    2          2         2   34      0      0      0      0   \n",
       "3   4    50000.0    2          2         1   37      0      0      0      0   \n",
       "4   5    50000.0    1          2         1   57     -1      0     -1      0   \n",
       "5   6    50000.0    1          1         2   37      0      0      0      0   \n",
       "6   7   500000.0    1          1         2   29      0      0      0      0   \n",
       "7   8   100000.0    2          2         2   23      0     -1     -1      0   \n",
       "8   9   140000.0    2          3         1   28      0      0      2      0   \n",
       "9  10    20000.0    1          3         2   35     -2     -2     -2     -2   \n",
       "\n",
       "   ...  BILL_AMT4  BILL_AMT5  BILL_AMT6  PAY_AMT1  PAY_AMT2  PAY_AMT3  \\\n",
       "0  ...        0.0        0.0        0.0       0.0     689.0       0.0   \n",
       "1  ...     3272.0     3455.0     3261.0       0.0    1000.0    1000.0   \n",
       "2  ...    14331.0    14948.0    15549.0    1518.0    1500.0    1000.0   \n",
       "3  ...    28314.0    28959.0    29547.0    2000.0    2019.0    1200.0   \n",
       "4  ...    20940.0    19146.0    19131.0    2000.0   36681.0   10000.0   \n",
       "5  ...    19394.0    19619.0    20024.0    2500.0    1815.0     657.0   \n",
       "6  ...   542653.0   483003.0   473944.0   55000.0   40000.0   38000.0   \n",
       "7  ...      221.0     -159.0      567.0     380.0     601.0       0.0   \n",
       "8  ...    12211.0    11793.0     3719.0    3329.0       0.0     432.0   \n",
       "9  ...        0.0    13007.0    13912.0       0.0       0.0       0.0   \n",
       "\n",
       "   PAY_AMT4  PAY_AMT5  PAY_AMT6  default.payment.next.month  \n",
       "0       0.0       0.0       0.0                           1  \n",
       "1    1000.0       0.0    2000.0                           1  \n",
       "2    1000.0    1000.0    5000.0                           0  \n",
       "3    1100.0    1069.0    1000.0                           0  \n",
       "4    9000.0     689.0     679.0                           0  \n",
       "5    1000.0    1000.0     800.0                           0  \n",
       "6   20239.0   13750.0   13770.0                           0  \n",
       "7     581.0    1687.0    1542.0                           0  \n",
       "8    1000.0    1000.0    1000.0                           0  \n",
       "9   13007.0    1122.0       0.0                           0  \n",
       "\n",
       "[10 rows x 25 columns]"
      ]
     },
     "execution_count": 3,
     "metadata": {},
     "output_type": "execute_result"
    }
   ],
   "source": [
    "df.head(10)"
   ]
  },
  {
   "cell_type": "code",
   "execution_count": 4,
   "id": "1e5e339d",
   "metadata": {
    "execution": {
     "iopub.execute_input": "2022-04-29T19:36:37.307879Z",
     "iopub.status.busy": "2022-04-29T19:36:37.307396Z",
     "iopub.status.idle": "2022-04-29T19:36:37.312320Z",
     "shell.execute_reply": "2022-04-29T19:36:37.311703Z"
    },
    "papermill": {
     "duration": 0.068184,
     "end_time": "2022-04-29T19:36:37.314154",
     "exception": false,
     "start_time": "2022-04-29T19:36:37.245970",
     "status": "completed"
    },
    "tags": []
   },
   "outputs": [
    {
     "data": {
      "text/plain": [
       "(30000, 25)"
      ]
     },
     "execution_count": 4,
     "metadata": {},
     "output_type": "execute_result"
    }
   ],
   "source": [
    "df.shape"
   ]
  },
  {
   "cell_type": "code",
   "execution_count": 5,
   "id": "ba618313",
   "metadata": {
    "execution": {
     "iopub.execute_input": "2022-04-29T19:36:37.435691Z",
     "iopub.status.busy": "2022-04-29T19:36:37.435141Z",
     "iopub.status.idle": "2022-04-29T19:36:37.459741Z",
     "shell.execute_reply": "2022-04-29T19:36:37.459078Z"
    },
    "papermill": {
     "duration": 0.088833,
     "end_time": "2022-04-29T19:36:37.462460",
     "exception": false,
     "start_time": "2022-04-29T19:36:37.373627",
     "status": "completed"
    },
    "tags": []
   },
   "outputs": [
    {
     "name": "stdout",
     "output_type": "stream",
     "text": [
      "<class 'pandas.core.frame.DataFrame'>\n",
      "RangeIndex: 30000 entries, 0 to 29999\n",
      "Data columns (total 25 columns):\n",
      " #   Column                      Non-Null Count  Dtype  \n",
      "---  ------                      --------------  -----  \n",
      " 0   ID                          30000 non-null  int64  \n",
      " 1   LIMIT_BAL                   30000 non-null  float64\n",
      " 2   SEX                         30000 non-null  int64  \n",
      " 3   EDUCATION                   30000 non-null  int64  \n",
      " 4   MARRIAGE                    30000 non-null  int64  \n",
      " 5   AGE                         30000 non-null  int64  \n",
      " 6   PAY_0                       30000 non-null  int64  \n",
      " 7   PAY_2                       30000 non-null  int64  \n",
      " 8   PAY_3                       30000 non-null  int64  \n",
      " 9   PAY_4                       30000 non-null  int64  \n",
      " 10  PAY_5                       30000 non-null  int64  \n",
      " 11  PAY_6                       30000 non-null  int64  \n",
      " 12  BILL_AMT1                   30000 non-null  float64\n",
      " 13  BILL_AMT2                   30000 non-null  float64\n",
      " 14  BILL_AMT3                   30000 non-null  float64\n",
      " 15  BILL_AMT4                   30000 non-null  float64\n",
      " 16  BILL_AMT5                   30000 non-null  float64\n",
      " 17  BILL_AMT6                   30000 non-null  float64\n",
      " 18  PAY_AMT1                    30000 non-null  float64\n",
      " 19  PAY_AMT2                    30000 non-null  float64\n",
      " 20  PAY_AMT3                    30000 non-null  float64\n",
      " 21  PAY_AMT4                    30000 non-null  float64\n",
      " 22  PAY_AMT5                    30000 non-null  float64\n",
      " 23  PAY_AMT6                    30000 non-null  float64\n",
      " 24  default.payment.next.month  30000 non-null  int64  \n",
      "dtypes: float64(13), int64(12)\n",
      "memory usage: 5.7 MB\n"
     ]
    }
   ],
   "source": [
    "df.info()"
   ]
  },
  {
   "cell_type": "markdown",
   "id": "12b913fc",
   "metadata": {
    "papermill": {
     "duration": 0.059399,
     "end_time": "2022-04-29T19:36:37.583277",
     "exception": false,
     "start_time": "2022-04-29T19:36:37.523878",
     "status": "completed"
    },
    "tags": []
   },
   "source": [
    "### Exploratory Data Analysis"
   ]
  },
  {
   "cell_type": "code",
   "execution_count": 7,
   "id": "564a727f",
   "metadata": {
    "execution": {
     "iopub.execute_input": "2022-04-29T19:36:37.704396Z",
     "iopub.status.busy": "2022-04-29T19:36:37.703885Z",
     "iopub.status.idle": "2022-04-29T19:36:37.713493Z",
     "shell.execute_reply": "2022-04-29T19:36:37.712838Z"
    },
    "papermill": {
     "duration": 0.072696,
     "end_time": "2022-04-29T19:36:37.715362",
     "exception": false,
     "start_time": "2022-04-29T19:36:37.642666",
     "status": "completed"
    },
    "tags": []
   },
   "outputs": [
    {
     "data": {
      "text/plain": [
       "0    23364\n",
       "1     6636\n",
       "Name: Fraud, dtype: int64"
      ]
     },
     "execution_count": 7,
     "metadata": {},
     "output_type": "execute_result"
    }
   ],
   "source": [
    "# Distribution of defaults\n",
    "df=df.rename(columns={'default.payment.next.month':'Fraud'})\n",
    "df.Fraud.value_counts()"
   ]
  },
  {
   "cell_type": "code",
   "execution_count": 8,
   "id": "5d1bcfc4",
   "metadata": {
    "execution": {
     "iopub.execute_input": "2022-04-29T19:36:37.837565Z",
     "iopub.status.busy": "2022-04-29T19:36:37.836992Z",
     "iopub.status.idle": "2022-04-29T19:36:37.978595Z",
     "shell.execute_reply": "2022-04-29T19:36:37.977772Z"
    },
    "papermill": {
     "duration": 0.205493,
     "end_time": "2022-04-29T19:36:37.981017",
     "exception": false,
     "start_time": "2022-04-29T19:36:37.775524",
     "status": "completed"
    },
    "tags": []
   },
   "outputs": [
    {
     "data": {
      "image/png": "[encoded data removed]",
      "text/plain": [
       "<Figure size 600x400 with 1 Axes>"
      ]
     },
     "metadata": {
      "needs_background": "light"
     },
     "output_type": "display_data"
    }
   ],
   "source": [
    "plt.figure(dpi=100)\n",
    "sns.countplot(x=\"Fraud\", data=df)\n",
    "plt.xlabel(\"Fraud\")\n",
    "plt.ylabel(\"Count\")\n",
    "plt.show()"
   ]
  },
  {
   "cell_type": "code",
   "execution_count": 9,
   "id": "eff544fb",
   "metadata": {
    "execution": {
     "iopub.execute_input": "2022-04-29T19:36:38.106878Z",
     "iopub.status.busy": "2022-04-29T19:36:38.106361Z",
     "iopub.status.idle": "2022-04-29T19:36:38.114335Z",
     "shell.execute_reply": "2022-04-29T19:36:38.113367Z"
    },
    "papermill": {
     "duration": 0.073205,
     "end_time": "2022-04-29T19:36:38.116705",
     "exception": false,
     "start_time": "2022-04-29T19:36:38.043500",
     "status": "completed"
    },
    "tags": []
   },
   "outputs": [],
   "source": [
    "df2=df.copy()"
   ]
  },
  {
   "cell_type": "code",
   "execution_count": 10,
   "id": "40b8089c",
   "metadata": {
    "execution": {
     "iopub.execute_input": "2022-04-29T19:36:38.242612Z",
     "iopub.status.busy": "2022-04-29T19:36:38.242292Z",
     "iopub.status.idle": "2022-04-29T19:36:38.259186Z",
     "shell.execute_reply": "2022-04-29T19:36:38.258284Z"
    },
    "papermill": {
     "duration": 0.08158,
     "end_time": "2022-04-29T19:36:38.261502",
     "exception": false,
     "start_time": "2022-04-29T19:36:38.179922",
     "status": "completed"
    },
    "tags": []
   },
   "outputs": [],
   "source": [
    "def sex1(x):\n",
    "    if (x==1):\n",
    "        return \"Male\"\n",
    "    else:\n",
    "        return \"Female\"\n",
    "df2['SEX']=df['SEX'].apply(sex1)"
   ]
  },
  {
   "cell_type": "code",
   "execution_count": 11,
   "id": "2f8b96f7",
   "metadata": {
    "execution": {
     "iopub.execute_input": "2022-04-29T19:36:38.386663Z",
     "iopub.status.busy": "2022-04-29T19:36:38.386223Z",
     "iopub.status.idle": "2022-04-29T19:36:38.548688Z",
     "shell.execute_reply": "2022-04-29T19:36:38.547901Z"
    },
    "papermill": {
     "duration": 0.227753,
     "end_time": "2022-04-29T19:36:38.551001",
     "exception": false,
     "start_time": "2022-04-29T19:36:38.323248",
     "status": "completed"
    },
    "tags": []
   },
   "outputs": [
    {
     "data": {
      "image/png": "[encoded data removed]",
      "text/plain": [
       "<Figure size 600x400 with 1 Axes>"
      ]
     },
     "metadata": {
      "needs_background": "light"
     },
     "output_type": "display_data"
    }
   ],
   "source": [
    "plt.figure(dpi=100)\n",
    "df2.SEX.value_counts()\n",
    "sns.countplot(x=\"SEX\", data=df2)\n",
    "plt.title(\"Ratio of Gender\", size=15)\n",
    "plt.xlabel(\"Sex\")\n",
    "plt.ylabel(\"Count\")\n",
    "plt.show()"
   ]
  },
  {
   "cell_type": "code",
   "execution_count": 12,
   "id": "487f4661",
   "metadata": {
    "execution": {
     "iopub.execute_input": "2022-04-29T19:36:38.676742Z",
     "iopub.status.busy": "2022-04-29T19:36:38.676176Z",
     "iopub.status.idle": "2022-04-29T19:36:38.683666Z",
     "shell.execute_reply": "2022-04-29T19:36:38.682958Z"
    },
    "papermill": {
     "duration": 0.072393,
     "end_time": "2022-04-29T19:36:38.685596",
     "exception": false,
     "start_time": "2022-04-29T19:36:38.613203",
     "status": "completed"
    },
    "tags": []
   },
   "outputs": [
    {
     "data": {
      "text/plain": [
       "2    14030\n",
       "1    10585\n",
       "3     4917\n",
       "5      280\n",
       "4      123\n",
       "6       51\n",
       "0       14\n",
       "Name: EDUCATION, dtype: int64"
      ]
     },
     "execution_count": 12,
     "metadata": {},
     "output_type": "execute_result"
    }
   ],
   "source": [
    "df2.EDUCATION.value_counts()"
   ]
  },
  {
   "cell_type": "code",
   "execution_count": 13,
   "id": "12dd3c3e",
   "metadata": {
    "execution": {
     "iopub.execute_input": "2022-04-29T19:36:38.814302Z",
     "iopub.status.busy": "2022-04-29T19:36:38.813703Z",
     "iopub.status.idle": "2022-04-29T19:36:38.861699Z",
     "shell.execute_reply": "2022-04-29T19:36:38.860999Z"
    },
    "papermill": {
     "duration": 0.115973,
     "end_time": "2022-04-29T19:36:38.863923",
     "exception": false,
     "start_time": "2022-04-29T19:36:38.747950",
     "status": "completed"
    },
    "tags": []
   },
   "outputs": [],
   "source": [
    "def edu(x):\n",
    "    if (x==0) or (x==5) or (x==6):\n",
    "        x=4\n",
    "    return x\n",
    "df['EDUCATION']=df['EDUCATION'].apply(edu)\n",
    "df2['EDUCATION']=df2['EDUCATION'].apply(edu)"
   ]
  },
  {
   "cell_type": "code",
   "execution_count": 14,
   "id": "c9bbb17a",
   "metadata": {
    "execution": {
     "iopub.execute_input": "2022-04-29T19:36:38.990520Z",
     "iopub.status.busy": "2022-04-29T19:36:38.989860Z",
     "iopub.status.idle": "2022-04-29T19:36:39.007491Z",
     "shell.execute_reply": "2022-04-29T19:36:39.006799Z"
    },
    "papermill": {
     "duration": 0.083275,
     "end_time": "2022-04-29T19:36:39.009739",
     "exception": false,
     "start_time": "2022-04-29T19:36:38.926464",
     "status": "completed"
    },
    "tags": []
   },
   "outputs": [],
   "source": [
    "def edu1(x):\n",
    "    if (x==1):\n",
    "        return \"Graduate school\"\n",
    "    elif (x==2):\n",
    "        return \"University\"\n",
    "    elif (x==3):\n",
    "        return \"High School\"\n",
    "    else:\n",
    "        return \"Others\"\n",
    "df2['EDUCATION']=df2['EDUCATION'].apply(edu1)"
   ]
  },
  {
   "cell_type": "code",
   "execution_count": 16,
   "id": "27dfe3ec",
   "metadata": {
    "execution": {
     "iopub.execute_input": "2022-04-29T19:36:39.138134Z",
     "iopub.status.busy": "2022-04-29T19:36:39.137493Z",
     "iopub.status.idle": "2022-04-29T19:36:39.341459Z",
     "shell.execute_reply": "2022-04-29T19:36:39.340798Z"
    },
    "papermill": {
     "duration": 0.270385,
     "end_time": "2022-04-29T19:36:39.343628",
     "exception": false,
     "start_time": "2022-04-29T19:36:39.073243",
     "status": "completed"
    },
    "tags": []
   },
   "outputs": [
    {
     "data": {
      "image/png": "[encoded data removed]",
      "text/plain": [
       "<Figure size 600x400 with 1 Axes>"
      ]
     },
     "metadata": {
      "needs_background": "light"
     },
     "output_type": "display_data"
    }
   ],
   "source": [
    "plt.figure(dpi=100)\n",
    "df2.EDUCATION.value_counts()\n",
    "sns.countplot(x=\"EDUCATION\", hue=\"Fraud\", data=df2)\n",
    "plt.xlabel(\"Education\")\n",
    "plt.ylabel(\"Count\")\n",
    "plt.show()"
   ]
  },
  {
   "cell_type": "code",
   "execution_count": 17,
   "id": "418eaa20",
   "metadata": {
    "execution": {
     "iopub.execute_input": "2022-04-29T19:36:39.475071Z",
     "iopub.status.busy": "2022-04-29T19:36:39.474545Z",
     "iopub.status.idle": "2022-04-29T19:36:39.482326Z",
     "shell.execute_reply": "2022-04-29T19:36:39.481275Z"
    },
    "papermill": {
     "duration": 0.0765,
     "end_time": "2022-04-29T19:36:39.484352",
     "exception": false,
     "start_time": "2022-04-29T19:36:39.407852",
     "status": "completed"
    },
    "tags": []
   },
   "outputs": [
    {
     "data": {
      "text/plain": [
       "2    15964\n",
       "1    13659\n",
       "3      323\n",
       "0       54\n",
       "Name: MARRIAGE, dtype: int64"
      ]
     },
     "execution_count": 17,
     "metadata": {},
     "output_type": "execute_result"
    }
   ],
   "source": [
    "df.MARRIAGE.value_counts()"
   ]
  },
  {
   "cell_type": "code",
   "execution_count": 18,
   "id": "57cdfee3",
   "metadata": {
    "execution": {
     "iopub.execute_input": "2022-04-29T19:36:39.615024Z",
     "iopub.status.busy": "2022-04-29T19:36:39.614749Z",
     "iopub.status.idle": "2022-04-29T19:36:39.667599Z",
     "shell.execute_reply": "2022-04-29T19:36:39.666780Z"
    },
    "papermill": {
     "duration": 0.119961,
     "end_time": "2022-04-29T19:36:39.670023",
     "exception": false,
     "start_time": "2022-04-29T19:36:39.550062",
     "status": "completed"
    },
    "tags": []
   },
   "outputs": [],
   "source": [
    "def marriage(x):\n",
    "    if (x==0):\n",
    "        x=3\n",
    "    return x\n",
    "df['MARRIAGE']=df['MARRIAGE'].apply(marriage)\n",
    "df2['MARRIAGE']=df2['MARRIAGE'].apply(marriage)"
   ]
  },
  {
   "cell_type": "code",
   "execution_count": 19,
   "id": "3c6fb7e2",
   "metadata": {
    "execution": {
     "iopub.execute_input": "2022-04-29T19:36:39.798394Z",
     "iopub.status.busy": "2022-04-29T19:36:39.798128Z",
     "iopub.status.idle": "2022-04-29T19:36:39.814164Z",
     "shell.execute_reply": "2022-04-29T19:36:39.813188Z"
    },
    "papermill": {
     "duration": 0.083093,
     "end_time": "2022-04-29T19:36:39.816539",
     "exception": false,
     "start_time": "2022-04-29T19:36:39.733446",
     "status": "completed"
    },
    "tags": []
   },
   "outputs": [],
   "source": [
    "def marriage1(x):\n",
    "    if (x==1):\n",
    "        return \"Married\"\n",
    "    elif (x==2):\n",
    "        return \"Single\"\n",
    "    else:\n",
    "        return \"Others\"\n",
    "df2['MARRIAGE']=df2['MARRIAGE'].apply(marriage1)"
   ]
  },
  {
   "cell_type": "code",
   "execution_count": 21,
   "id": "78f657e2",
   "metadata": {
    "execution": {
     "iopub.execute_input": "2022-04-29T19:36:39.948346Z",
     "iopub.status.busy": "2022-04-29T19:36:39.948090Z",
     "iopub.status.idle": "2022-04-29T19:36:40.143013Z",
     "shell.execute_reply": "2022-04-29T19:36:40.142167Z"
    },
    "papermill": {
     "duration": 0.262092,
     "end_time": "2022-04-29T19:36:40.145370",
     "exception": false,
     "start_time": "2022-04-29T19:36:39.883278",
     "status": "completed"
    },
    "tags": []
   },
   "outputs": [
    {
     "data": {
      "image/png": "[encoded data removed]",
      "text/plain": [
       "<Figure size 600x400 with 1 Axes>"
      ]
     },
     "metadata": {
      "needs_background": "light"
     },
     "output_type": "display_data"
    }
   ],
   "source": [
    "plt.figure(dpi=100)\n",
    "df2.MARRIAGE.value_counts()\n",
    "sns.countplot(x=\"MARRIAGE\", hue=\"Fraud\", data=df2)\n",
    "plt.xlabel(\"Marriage\")\n",
    "plt.ylabel(\"Count\")\n",
    "plt.show()"
   ]
  },
  {
   "cell_type": "code",
   "execution_count": 22,
   "id": "57e4f7a5",
   "metadata": {
    "execution": {
     "iopub.execute_input": "2022-04-29T19:36:40.293312Z",
     "iopub.status.busy": "2022-04-29T19:36:40.292733Z",
     "iopub.status.idle": "2022-04-29T19:36:41.124733Z",
     "shell.execute_reply": "2022-04-29T19:36:41.123378Z"
    },
    "papermill": {
     "duration": 0.916428,
     "end_time": "2022-04-29T19:36:41.127296",
     "exception": false,
     "start_time": "2022-04-29T19:36:40.210868",
     "status": "completed"
    },
    "tags": []
   },
   "outputs": [
    {
     "data": {
      "image/png": "[encoded data removed]",
      "text/plain": [
       "<Figure size 1296x360 with 1 Axes>"
      ]
     },
     "metadata": {
      "needs_background": "light"
     },
     "output_type": "display_data"
    }
   ],
   "source": [
    "plt.figure(figsize=(18,5))\n",
    "age=df2['AGE'].value_counts().reset_index()\n",
    "sns.barplot(x='index',y='AGE',data=age,orient='v')\n",
    "plt.xlabel(\"Age\")\n",
    "plt.ylabel(\"Count\")\n",
    "plt.show()"
   ]
  },
  {
   "cell_type": "code",
   "execution_count": 23,
   "id": "6d2daa76",
   "metadata": {
    "execution": {
     "iopub.execute_input": "2022-04-29T19:36:41.261183Z",
     "iopub.status.busy": "2022-04-29T19:36:41.260860Z",
     "iopub.status.idle": "2022-04-29T19:36:41.268848Z",
     "shell.execute_reply": "2022-04-29T19:36:41.267971Z"
    },
    "papermill": {
     "duration": 0.077023,
     "end_time": "2022-04-29T19:36:41.271026",
     "exception": false,
     "start_time": "2022-04-29T19:36:41.194003",
     "status": "completed"
    },
    "tags": []
   },
   "outputs": [],
   "source": [
    "# Dropping unnecessary column\n",
    "df.drop(['ID'], axis=1, inplace=True)"
   ]
  },
  {
   "cell_type": "code",
   "execution_count": 24,
   "id": "a838de46",
   "metadata": {
    "execution": {
     "iopub.execute_input": "2022-04-29T19:36:41.404509Z",
     "iopub.status.busy": "2022-04-29T19:36:41.404199Z",
     "iopub.status.idle": "2022-04-29T19:36:41.512162Z",
     "shell.execute_reply": "2022-04-29T19:36:41.511163Z"
    },
    "papermill": {
     "duration": 0.177377,
     "end_time": "2022-04-29T19:36:41.514409",
     "exception": false,
     "start_time": "2022-04-29T19:36:41.337032",
     "status": "completed"
    },
    "tags": []
   },
   "outputs": [],
   "source": [
    "#Handling Outlier\n",
    "def outlier_capping(x):\n",
    "    x=x.clip(upper=x.quantile(0.99))\n",
    "    x=x.clip(lower=x.quantile(0.01))\n",
    "    return x\n",
    "df=df.apply(outlier_capping)"
   ]
  },
  {
   "cell_type": "code",
   "execution_count": 25,
   "id": "a5e06d2a",
   "metadata": {
    "execution": {
     "iopub.execute_input": "2022-04-29T19:36:41.646637Z",
     "iopub.status.busy": "2022-04-29T19:36:41.645806Z",
     "iopub.status.idle": "2022-04-29T19:36:41.690612Z",
     "shell.execute_reply": "2022-04-29T19:36:41.689803Z"
    },
    "papermill": {
     "duration": 0.113349,
     "end_time": "2022-04-29T19:36:41.693109",
     "exception": false,
     "start_time": "2022-04-29T19:36:41.579760",
     "status": "completed"
    },
    "tags": []
   },
   "outputs": [
    {
     "data": {
      "text/html": [
       "<div>\n",
       "<style scoped>\n",
       "    .dataframe tbody tr th:only-of-type {\n",
       "        vertical-align: middle;\n",
       "    }\n",
       "\n",
       "    .dataframe tbody tr th {\n",
       "        vertical-align: top;\n",
       "    }\n",
       "\n",
       "    .dataframe thead th {\n",
       "        text-align: right;\n",
       "    }\n",
       "</style>\n",
       "<table border=\"1\" class=\"dataframe\">\n",
       "  <thead>\n",
       "    <tr style=\"text-align: right;\">\n",
       "      <th></th>\n",
       "      <th>LIMIT_BAL</th>\n",
       "      <th>SEX</th>\n",
       "      <th>EDUCATION</th>\n",
       "      <th>MARRIAGE</th>\n",
       "      <th>AGE</th>\n",
       "      <th>PAY_0</th>\n",
       "      <th>PAY_2</th>\n",
       "      <th>PAY_3</th>\n",
       "      <th>PAY_4</th>\n",
       "      <th>PAY_5</th>\n",
       "      <th>...</th>\n",
       "      <th>BILL_AMT4</th>\n",
       "      <th>BILL_AMT5</th>\n",
       "      <th>BILL_AMT6</th>\n",
       "      <th>PAY_AMT1</th>\n",
       "      <th>PAY_AMT2</th>\n",
       "      <th>PAY_AMT3</th>\n",
       "      <th>PAY_AMT4</th>\n",
       "      <th>PAY_AMT5</th>\n",
       "      <th>PAY_AMT6</th>\n",
       "      <th>Fraud</th>\n",
       "    </tr>\n",
       "  </thead>\n",
       "  <tbody>\n",
       "    <tr>\n",
       "      <th>0</th>\n",
       "      <td>20000.0</td>\n",
       "      <td>2</td>\n",
       "      <td>2</td>\n",
       "      <td>1</td>\n",
       "      <td>24.0</td>\n",
       "      <td>2.0</td>\n",
       "      <td>2.0</td>\n",
       "      <td>-1.0</td>\n",
       "      <td>-1.0</td>\n",
       "      <td>-2.0</td>\n",
       "      <td>...</td>\n",
       "      <td>0.0</td>\n",
       "      <td>0.0</td>\n",
       "      <td>0.0</td>\n",
       "      <td>0.00</td>\n",
       "      <td>689.0</td>\n",
       "      <td>0.0</td>\n",
       "      <td>0.0</td>\n",
       "      <td>0.0</td>\n",
       "      <td>0.0</td>\n",
       "      <td>1</td>\n",
       "    </tr>\n",
       "    <tr>\n",
       "      <th>1</th>\n",
       "      <td>120000.0</td>\n",
       "      <td>2</td>\n",
       "      <td>2</td>\n",
       "      <td>2</td>\n",
       "      <td>26.0</td>\n",
       "      <td>-1.0</td>\n",
       "      <td>2.0</td>\n",
       "      <td>0.0</td>\n",
       "      <td>0.0</td>\n",
       "      <td>0.0</td>\n",
       "      <td>...</td>\n",
       "      <td>3272.0</td>\n",
       "      <td>3455.0</td>\n",
       "      <td>3261.0</td>\n",
       "      <td>0.00</td>\n",
       "      <td>1000.0</td>\n",
       "      <td>1000.0</td>\n",
       "      <td>1000.0</td>\n",
       "      <td>0.0</td>\n",
       "      <td>2000.0</td>\n",
       "      <td>1</td>\n",
       "    </tr>\n",
       "    <tr>\n",
       "      <th>2</th>\n",
       "      <td>90000.0</td>\n",
       "      <td>2</td>\n",
       "      <td>2</td>\n",
       "      <td>2</td>\n",
       "      <td>34.0</td>\n",
       "      <td>0.0</td>\n",
       "      <td>0.0</td>\n",
       "      <td>0.0</td>\n",
       "      <td>0.0</td>\n",
       "      <td>0.0</td>\n",
       "      <td>...</td>\n",
       "      <td>14331.0</td>\n",
       "      <td>14948.0</td>\n",
       "      <td>15549.0</td>\n",
       "      <td>1518.00</td>\n",
       "      <td>1500.0</td>\n",
       "      <td>1000.0</td>\n",
       "      <td>1000.0</td>\n",
       "      <td>1000.0</td>\n",
       "      <td>5000.0</td>\n",
       "      <td>0</td>\n",
       "    </tr>\n",
       "    <tr>\n",
       "      <th>3</th>\n",
       "      <td>50000.0</td>\n",
       "      <td>2</td>\n",
       "      <td>2</td>\n",
       "      <td>1</td>\n",
       "      <td>37.0</td>\n",
       "      <td>0.0</td>\n",
       "      <td>0.0</td>\n",
       "      <td>0.0</td>\n",
       "      <td>0.0</td>\n",
       "      <td>0.0</td>\n",
       "      <td>...</td>\n",
       "      <td>28314.0</td>\n",
       "      <td>28959.0</td>\n",
       "      <td>29547.0</td>\n",
       "      <td>2000.00</td>\n",
       "      <td>2019.0</td>\n",
       "      <td>1200.0</td>\n",
       "      <td>1100.0</td>\n",
       "      <td>1069.0</td>\n",
       "      <td>1000.0</td>\n",
       "      <td>0</td>\n",
       "    </tr>\n",
       "    <tr>\n",
       "      <th>4</th>\n",
       "      <td>50000.0</td>\n",
       "      <td>1</td>\n",
       "      <td>2</td>\n",
       "      <td>1</td>\n",
       "      <td>57.0</td>\n",
       "      <td>-1.0</td>\n",
       "      <td>0.0</td>\n",
       "      <td>-1.0</td>\n",
       "      <td>0.0</td>\n",
       "      <td>0.0</td>\n",
       "      <td>...</td>\n",
       "      <td>20940.0</td>\n",
       "      <td>19146.0</td>\n",
       "      <td>19131.0</td>\n",
       "      <td>2000.00</td>\n",
       "      <td>36681.0</td>\n",
       "      <td>10000.0</td>\n",
       "      <td>9000.0</td>\n",
       "      <td>689.0</td>\n",
       "      <td>679.0</td>\n",
       "      <td>0</td>\n",
       "    </tr>\n",
       "    <tr>\n",
       "      <th>...</th>\n",
       "      <td>...</td>\n",
       "      <td>...</td>\n",
       "      <td>...</td>\n",
       "      <td>...</td>\n",
       "      <td>...</td>\n",
       "      <td>...</td>\n",
       "      <td>...</td>\n",
       "      <td>...</td>\n",
       "      <td>...</td>\n",
       "      <td>...</td>\n",
       "      <td>...</td>\n",
       "      <td>...</td>\n",
       "      <td>...</td>\n",
       "      <td>...</td>\n",
       "      <td>...</td>\n",
       "      <td>...</td>\n",
       "      <td>...</td>\n",
       "      <td>...</td>\n",
       "      <td>...</td>\n",
       "      <td>...</td>\n",
       "      <td>...</td>\n",
       "    </tr>\n",
       "    <tr>\n",
       "      <th>29995</th>\n",
       "      <td>220000.0</td>\n",
       "      <td>1</td>\n",
       "      <td>3</td>\n",
       "      <td>1</td>\n",
       "      <td>39.0</td>\n",
       "      <td>0.0</td>\n",
       "      <td>0.0</td>\n",
       "      <td>0.0</td>\n",
       "      <td>0.0</td>\n",
       "      <td>0.0</td>\n",
       "      <td>...</td>\n",
       "      <td>88004.0</td>\n",
       "      <td>31237.0</td>\n",
       "      <td>15980.0</td>\n",
       "      <td>8500.00</td>\n",
       "      <td>20000.0</td>\n",
       "      <td>5003.0</td>\n",
       "      <td>3047.0</td>\n",
       "      <td>5000.0</td>\n",
       "      <td>1000.0</td>\n",
       "      <td>0</td>\n",
       "    </tr>\n",
       "    <tr>\n",
       "      <th>29996</th>\n",
       "      <td>150000.0</td>\n",
       "      <td>1</td>\n",
       "      <td>3</td>\n",
       "      <td>2</td>\n",
       "      <td>43.0</td>\n",
       "      <td>-1.0</td>\n",
       "      <td>-1.0</td>\n",
       "      <td>-1.0</td>\n",
       "      <td>-1.0</td>\n",
       "      <td>0.0</td>\n",
       "      <td>...</td>\n",
       "      <td>8979.0</td>\n",
       "      <td>5190.0</td>\n",
       "      <td>0.0</td>\n",
       "      <td>1837.00</td>\n",
       "      <td>3526.0</td>\n",
       "      <td>8998.0</td>\n",
       "      <td>129.0</td>\n",
       "      <td>0.0</td>\n",
       "      <td>0.0</td>\n",
       "      <td>0</td>\n",
       "    </tr>\n",
       "    <tr>\n",
       "      <th>29997</th>\n",
       "      <td>30000.0</td>\n",
       "      <td>1</td>\n",
       "      <td>2</td>\n",
       "      <td>2</td>\n",
       "      <td>37.0</td>\n",
       "      <td>3.0</td>\n",
       "      <td>3.0</td>\n",
       "      <td>2.0</td>\n",
       "      <td>-1.0</td>\n",
       "      <td>0.0</td>\n",
       "      <td>...</td>\n",
       "      <td>20878.0</td>\n",
       "      <td>20582.0</td>\n",
       "      <td>19357.0</td>\n",
       "      <td>0.00</td>\n",
       "      <td>0.0</td>\n",
       "      <td>22000.0</td>\n",
       "      <td>4200.0</td>\n",
       "      <td>2000.0</td>\n",
       "      <td>3100.0</td>\n",
       "      <td>1</td>\n",
       "    </tr>\n",
       "    <tr>\n",
       "      <th>29998</th>\n",
       "      <td>80000.0</td>\n",
       "      <td>1</td>\n",
       "      <td>3</td>\n",
       "      <td>1</td>\n",
       "      <td>41.0</td>\n",
       "      <td>1.0</td>\n",
       "      <td>-1.0</td>\n",
       "      <td>0.0</td>\n",
       "      <td>0.0</td>\n",
       "      <td>0.0</td>\n",
       "      <td>...</td>\n",
       "      <td>52774.0</td>\n",
       "      <td>11855.0</td>\n",
       "      <td>48944.0</td>\n",
       "      <td>66522.18</td>\n",
       "      <td>3409.0</td>\n",
       "      <td>1178.0</td>\n",
       "      <td>1926.0</td>\n",
       "      <td>52964.0</td>\n",
       "      <td>1804.0</td>\n",
       "      <td>1</td>\n",
       "    </tr>\n",
       "    <tr>\n",
       "      <th>29999</th>\n",
       "      <td>50000.0</td>\n",
       "      <td>1</td>\n",
       "      <td>2</td>\n",
       "      <td>1</td>\n",
       "      <td>46.0</td>\n",
       "      <td>0.0</td>\n",
       "      <td>0.0</td>\n",
       "      <td>0.0</td>\n",
       "      <td>0.0</td>\n",
       "      <td>0.0</td>\n",
       "      <td>...</td>\n",
       "      <td>36535.0</td>\n",
       "      <td>32428.0</td>\n",
       "      <td>15313.0</td>\n",
       "      <td>2078.00</td>\n",
       "      <td>1800.0</td>\n",
       "      <td>1430.0</td>\n",
       "      <td>1000.0</td>\n",
       "      <td>1000.0</td>\n",
       "      <td>1000.0</td>\n",
       "      <td>1</td>\n",
       "    </tr>\n",
       "  </tbody>\n",
       "</table>\n",
       "<p>30000 rows × 24 columns</p>\n",
       "</div>"
      ],
      "text/plain": [
       "       LIMIT_BAL  SEX  EDUCATION  MARRIAGE   AGE  PAY_0  PAY_2  PAY_3  PAY_4  \\\n",
       "0        20000.0    2          2         1  24.0    2.0    2.0   -1.0   -1.0   \n",
       "1       120000.0    2          2         2  26.0   -1.0    2.0    0.0    0.0   \n",
       "2        90000.0    2          2         2  34.0    0.0    0.0    0.0    0.0   \n",
       "3        50000.0    2          2         1  37.0    0.0    0.0    0.0    0.0   \n",
       "4        50000.0    1          2         1  57.0   -1.0    0.0   -1.0    0.0   \n",
       "...          ...  ...        ...       ...   ...    ...    ...    ...    ...   \n",
       "29995   220000.0    1          3         1  39.0    0.0    0.0    0.0    0.0   \n",
       "29996   150000.0    1          3         2  43.0   -1.0   -1.0   -1.0   -1.0   \n",
       "29997    30000.0    1          2         2  37.0    3.0    3.0    2.0   -1.0   \n",
       "29998    80000.0    1          3         1  41.0    1.0   -1.0    0.0    0.0   \n",
       "29999    50000.0    1          2         1  46.0    0.0    0.0    0.0    0.0   \n",
       "\n",
       "       PAY_5  ...  BILL_AMT4  BILL_AMT5  BILL_AMT6  PAY_AMT1  PAY_AMT2  \\\n",
       "0       -2.0  ...        0.0        0.0        0.0      0.00     689.0   \n",
       "1        0.0  ...     3272.0     3455.0     3261.0      0.00    1000.0   \n",
       "2        0.0  ...    14331.0    14948.0    15549.0   1518.00    1500.0   \n",
       "3        0.0  ...    28314.0    28959.0    29547.0   2000.00    2019.0   \n",
       "4        0.0  ...    20940.0    19146.0    19131.0   2000.00   36681.0   \n",
       "...      ...  ...        ...        ...        ...       ...       ...   \n",
       "29995    0.0  ...    88004.0    31237.0    15980.0   8500.00   20000.0   \n",
       "29996    0.0  ...     8979.0     5190.0        0.0   1837.00    3526.0   \n",
       "29997    0.0  ...    20878.0    20582.0    19357.0      0.00       0.0   \n",
       "29998    0.0  ...    52774.0    11855.0    48944.0  66522.18    3409.0   \n",
       "29999    0.0  ...    36535.0    32428.0    15313.0   2078.00    1800.0   \n",
       "\n",
       "       PAY_AMT3  PAY_AMT4  PAY_AMT5  PAY_AMT6  Fraud  \n",
       "0           0.0       0.0       0.0       0.0      1  \n",
       "1        1000.0    1000.0       0.0    2000.0      1  \n",
       "2        1000.0    1000.0    1000.0    5000.0      0  \n",
       "3        1200.0    1100.0    1069.0    1000.0      0  \n",
       "4       10000.0    9000.0     689.0     679.0      0  \n",
       "...         ...       ...       ...       ...    ...  \n",
       "29995    5003.0    3047.0    5000.0    1000.0      0  \n",
       "29996    8998.0     129.0       0.0       0.0      0  \n",
       "29997   22000.0    4200.0    2000.0    3100.0      1  \n",
       "29998    1178.0    1926.0   52964.0    1804.0      1  \n",
       "29999    1430.0    1000.0    1000.0    1000.0      1  \n",
       "\n",
       "[30000 rows x 24 columns]"
      ]
     },
     "execution_count": 25,
     "metadata": {},
     "output_type": "execute_result"
    }
   ],
   "source": [
    "df"
   ]
  },
  {
   "cell_type": "markdown",
   "id": "fd79315a",
   "metadata": {
    "papermill": {
     "duration": 0.065886,
     "end_time": "2022-04-29T19:36:41.824901",
     "exception": false,
     "start_time": "2022-04-29T19:36:41.759015",
     "status": "completed"
    },
    "tags": []
   },
   "source": [
    "### Feature Engineering"
   ]
  },
  {
   "cell_type": "code",
   "execution_count": 26,
   "id": "8e2f075d",
   "metadata": {
    "execution": {
     "iopub.execute_input": "2022-04-29T19:36:41.961673Z",
     "iopub.status.busy": "2022-04-29T19:36:41.961047Z",
     "iopub.status.idle": "2022-04-29T19:36:44.529752Z",
     "shell.execute_reply": "2022-04-29T19:36:44.528804Z"
    },
    "papermill": {
     "duration": 2.640418,
     "end_time": "2022-04-29T19:36:44.533096",
     "exception": false,
     "start_time": "2022-04-29T19:36:41.892678",
     "status": "completed"
    },
    "tags": []
   },
   "outputs": [
    {
     "data": {
      "image/png": "[encoded data removed]",
      "text/plain": [
       "<Figure size 1152x720 with 2 Axes>"
      ]
     },
     "metadata": {
      "needs_background": "light"
     },
     "output_type": "display_data"
    }
   ],
   "source": [
    "plt.figure (figsize= (16,10))\n",
    "sns.heatmap(df.corr(),linewidths=.5,annot=True)\n",
    "plt.show()"
   ]
  },
  {
   "cell_type": "code",
   "execution_count": 27,
   "id": "73e7659a",
   "metadata": {
    "execution": {
     "iopub.execute_input": "2022-04-29T19:36:44.686706Z",
     "iopub.status.busy": "2022-04-29T19:36:44.686135Z",
     "iopub.status.idle": "2022-04-29T19:36:44.728748Z",
     "shell.execute_reply": "2022-04-29T19:36:44.728003Z"
    },
    "papermill": {
     "duration": 0.12129,
     "end_time": "2022-04-29T19:36:44.731122",
     "exception": false,
     "start_time": "2022-04-29T19:36:44.609832",
     "status": "completed"
    },
    "tags": []
   },
   "outputs": [],
   "source": [
    "# One-hot encoding\n",
    "df1=df.copy()\n",
    "df1 = pd.get_dummies(df1, columns=[\"SEX\"])\n",
    "df1 = pd.get_dummies(df1, columns=[\"EDUCATION\"])\n",
    "df1 = pd.get_dummies(df1, columns=[\"MARRIAGE\"])"
   ]
  },
  {
   "cell_type": "code",
   "execution_count": 28,
   "id": "f35e130c",
   "metadata": {
    "execution": {
     "iopub.execute_input": "2022-04-29T19:36:44.883503Z",
     "iopub.status.busy": "2022-04-29T19:36:44.882920Z",
     "iopub.status.idle": "2022-04-29T19:36:44.919591Z",
     "shell.execute_reply": "2022-04-29T19:36:44.918770Z"
    },
    "papermill": {
     "duration": 0.116029,
     "end_time": "2022-04-29T19:36:44.921829",
     "exception": false,
     "start_time": "2022-04-29T19:36:44.805800",
     "status": "completed"
    },
    "tags": []
   },
   "outputs": [
    {
     "data": {
      "text/html": [
       "<div>\n",
       "<style scoped>\n",
       "    .dataframe tbody tr th:only-of-type {\n",
       "        vertical-align: middle;\n",
       "    }\n",
       "\n",
       "    .dataframe tbody tr th {\n",
       "        vertical-align: top;\n",
       "    }\n",
       "\n",
       "    .dataframe thead th {\n",
       "        text-align: right;\n",
       "    }\n",
       "</style>\n",
       "<table border=\"1\" class=\"dataframe\">\n",
       "  <thead>\n",
       "    <tr style=\"text-align: right;\">\n",
       "      <th></th>\n",
       "      <th>LIMIT_BAL</th>\n",
       "      <th>AGE</th>\n",
       "      <th>PAY_0</th>\n",
       "      <th>PAY_2</th>\n",
       "      <th>PAY_3</th>\n",
       "      <th>PAY_4</th>\n",
       "      <th>PAY_5</th>\n",
       "      <th>PAY_6</th>\n",
       "      <th>BILL_AMT1</th>\n",
       "      <th>BILL_AMT2</th>\n",
       "      <th>...</th>\n",
       "      <th>Fraud</th>\n",
       "      <th>SEX_1</th>\n",
       "      <th>SEX_2</th>\n",
       "      <th>EDUCATION_1</th>\n",
       "      <th>EDUCATION_2</th>\n",
       "      <th>EDUCATION_3</th>\n",
       "      <th>EDUCATION_4</th>\n",
       "      <th>MARRIAGE_1</th>\n",
       "      <th>MARRIAGE_2</th>\n",
       "      <th>MARRIAGE_3</th>\n",
       "    </tr>\n",
       "  </thead>\n",
       "  <tbody>\n",
       "    <tr>\n",
       "      <th>0</th>\n",
       "      <td>20000.0</td>\n",
       "      <td>24.0</td>\n",
       "      <td>2.0</td>\n",
       "      <td>2.0</td>\n",
       "      <td>-1.0</td>\n",
       "      <td>-1.0</td>\n",
       "      <td>-2.0</td>\n",
       "      <td>-2.0</td>\n",
       "      <td>3913.0</td>\n",
       "      <td>3102.0</td>\n",
       "      <td>...</td>\n",
       "      <td>1</td>\n",
       "      <td>0</td>\n",
       "      <td>1</td>\n",
       "      <td>0</td>\n",
       "      <td>1</td>\n",
       "      <td>0</td>\n",
       "      <td>0</td>\n",
       "      <td>1</td>\n",
       "      <td>0</td>\n",
       "      <td>0</td>\n",
       "    </tr>\n",
       "    <tr>\n",
       "      <th>1</th>\n",
       "      <td>120000.0</td>\n",
       "      <td>26.0</td>\n",
       "      <td>-1.0</td>\n",
       "      <td>2.0</td>\n",
       "      <td>0.0</td>\n",
       "      <td>0.0</td>\n",
       "      <td>0.0</td>\n",
       "      <td>2.0</td>\n",
       "      <td>2682.0</td>\n",
       "      <td>1725.0</td>\n",
       "      <td>...</td>\n",
       "      <td>1</td>\n",
       "      <td>0</td>\n",
       "      <td>1</td>\n",
       "      <td>0</td>\n",
       "      <td>1</td>\n",
       "      <td>0</td>\n",
       "      <td>0</td>\n",
       "      <td>0</td>\n",
       "      <td>1</td>\n",
       "      <td>0</td>\n",
       "    </tr>\n",
       "    <tr>\n",
       "      <th>2</th>\n",
       "      <td>90000.0</td>\n",
       "      <td>34.0</td>\n",
       "      <td>0.0</td>\n",
       "      <td>0.0</td>\n",
       "      <td>0.0</td>\n",
       "      <td>0.0</td>\n",
       "      <td>0.0</td>\n",
       "      <td>0.0</td>\n",
       "      <td>29239.0</td>\n",
       "      <td>14027.0</td>\n",
       "      <td>...</td>\n",
       "      <td>0</td>\n",
       "      <td>0</td>\n",
       "      <td>1</td>\n",
       "      <td>0</td>\n",
       "      <td>1</td>\n",
       "      <td>0</td>\n",
       "      <td>0</td>\n",
       "      <td>0</td>\n",
       "      <td>1</td>\n",
       "      <td>0</td>\n",
       "    </tr>\n",
       "    <tr>\n",
       "      <th>3</th>\n",
       "      <td>50000.0</td>\n",
       "      <td>37.0</td>\n",
       "      <td>0.0</td>\n",
       "      <td>0.0</td>\n",
       "      <td>0.0</td>\n",
       "      <td>0.0</td>\n",
       "      <td>0.0</td>\n",
       "      <td>0.0</td>\n",
       "      <td>46990.0</td>\n",
       "      <td>48233.0</td>\n",
       "      <td>...</td>\n",
       "      <td>0</td>\n",
       "      <td>0</td>\n",
       "      <td>1</td>\n",
       "      <td>0</td>\n",
       "      <td>1</td>\n",
       "      <td>0</td>\n",
       "      <td>0</td>\n",
       "      <td>1</td>\n",
       "      <td>0</td>\n",
       "      <td>0</td>\n",
       "    </tr>\n",
       "    <tr>\n",
       "      <th>4</th>\n",
       "      <td>50000.0</td>\n",
       "      <td>57.0</td>\n",
       "      <td>-1.0</td>\n",
       "      <td>0.0</td>\n",
       "      <td>-1.0</td>\n",
       "      <td>0.0</td>\n",
       "      <td>0.0</td>\n",
       "      <td>0.0</td>\n",
       "      <td>8617.0</td>\n",
       "      <td>5670.0</td>\n",
       "      <td>...</td>\n",
       "      <td>0</td>\n",
       "      <td>1</td>\n",
       "      <td>0</td>\n",
       "      <td>0</td>\n",
       "      <td>1</td>\n",
       "      <td>0</td>\n",
       "      <td>0</td>\n",
       "      <td>1</td>\n",
       "      <td>0</td>\n",
       "      <td>0</td>\n",
       "    </tr>\n",
       "    <tr>\n",
       "      <th>...</th>\n",
       "      <td>...</td>\n",
       "      <td>...</td>\n",
       "      <td>...</td>\n",
       "      <td>...</td>\n",
       "      <td>...</td>\n",
       "      <td>...</td>\n",
       "      <td>...</td>\n",
       "      <td>...</td>\n",
       "      <td>...</td>\n",
       "      <td>...</td>\n",
       "      <td>...</td>\n",
       "      <td>...</td>\n",
       "      <td>...</td>\n",
       "      <td>...</td>\n",
       "      <td>...</td>\n",
       "      <td>...</td>\n",
       "      <td>...</td>\n",
       "      <td>...</td>\n",
       "      <td>...</td>\n",
       "      <td>...</td>\n",
       "      <td>...</td>\n",
       "    </tr>\n",
       "    <tr>\n",
       "      <th>29995</th>\n",
       "      <td>220000.0</td>\n",
       "      <td>39.0</td>\n",
       "      <td>0.0</td>\n",
       "      <td>0.0</td>\n",
       "      <td>0.0</td>\n",
       "      <td>0.0</td>\n",
       "      <td>0.0</td>\n",
       "      <td>0.0</td>\n",
       "      <td>188948.0</td>\n",
       "      <td>192815.0</td>\n",
       "      <td>...</td>\n",
       "      <td>0</td>\n",
       "      <td>1</td>\n",
       "      <td>0</td>\n",
       "      <td>0</td>\n",
       "      <td>0</td>\n",
       "      <td>1</td>\n",
       "      <td>0</td>\n",
       "      <td>1</td>\n",
       "      <td>0</td>\n",
       "      <td>0</td>\n",
       "    </tr>\n",
       "    <tr>\n",
       "      <th>29996</th>\n",
       "      <td>150000.0</td>\n",
       "      <td>43.0</td>\n",
       "      <td>-1.0</td>\n",
       "      <td>-1.0</td>\n",
       "      <td>-1.0</td>\n",
       "      <td>-1.0</td>\n",
       "      <td>0.0</td>\n",
       "      <td>0.0</td>\n",
       "      <td>1683.0</td>\n",
       "      <td>1828.0</td>\n",
       "      <td>...</td>\n",
       "      <td>0</td>\n",
       "      <td>1</td>\n",
       "      <td>0</td>\n",
       "      <td>0</td>\n",
       "      <td>0</td>\n",
       "      <td>1</td>\n",
       "      <td>0</td>\n",
       "      <td>0</td>\n",
       "      <td>1</td>\n",
       "      <td>0</td>\n",
       "    </tr>\n",
       "    <tr>\n",
       "      <th>29997</th>\n",
       "      <td>30000.0</td>\n",
       "      <td>37.0</td>\n",
       "      <td>3.0</td>\n",
       "      <td>3.0</td>\n",
       "      <td>2.0</td>\n",
       "      <td>-1.0</td>\n",
       "      <td>0.0</td>\n",
       "      <td>0.0</td>\n",
       "      <td>3565.0</td>\n",
       "      <td>3356.0</td>\n",
       "      <td>...</td>\n",
       "      <td>1</td>\n",
       "      <td>1</td>\n",
       "      <td>0</td>\n",
       "      <td>0</td>\n",
       "      <td>1</td>\n",
       "      <td>0</td>\n",
       "      <td>0</td>\n",
       "      <td>0</td>\n",
       "      <td>1</td>\n",
       "      <td>0</td>\n",
       "    </tr>\n",
       "    <tr>\n",
       "      <th>29998</th>\n",
       "      <td>80000.0</td>\n",
       "      <td>41.0</td>\n",
       "      <td>1.0</td>\n",
       "      <td>-1.0</td>\n",
       "      <td>0.0</td>\n",
       "      <td>0.0</td>\n",
       "      <td>0.0</td>\n",
       "      <td>-1.0</td>\n",
       "      <td>-81.0</td>\n",
       "      <td>78379.0</td>\n",
       "      <td>...</td>\n",
       "      <td>1</td>\n",
       "      <td>1</td>\n",
       "      <td>0</td>\n",
       "      <td>0</td>\n",
       "      <td>0</td>\n",
       "      <td>1</td>\n",
       "      <td>0</td>\n",
       "      <td>1</td>\n",
       "      <td>0</td>\n",
       "      <td>0</td>\n",
       "    </tr>\n",
       "    <tr>\n",
       "      <th>29999</th>\n",
       "      <td>50000.0</td>\n",
       "      <td>46.0</td>\n",
       "      <td>0.0</td>\n",
       "      <td>0.0</td>\n",
       "      <td>0.0</td>\n",
       "      <td>0.0</td>\n",
       "      <td>0.0</td>\n",
       "      <td>0.0</td>\n",
       "      <td>47929.0</td>\n",
       "      <td>48905.0</td>\n",
       "      <td>...</td>\n",
       "      <td>1</td>\n",
       "      <td>1</td>\n",
       "      <td>0</td>\n",
       "      <td>0</td>\n",
       "      <td>1</td>\n",
       "      <td>0</td>\n",
       "      <td>0</td>\n",
       "      <td>1</td>\n",
       "      <td>0</td>\n",
       "      <td>0</td>\n",
       "    </tr>\n",
       "  </tbody>\n",
       "</table>\n",
       "<p>30000 rows × 30 columns</p>\n",
       "</div>"
      ],
      "text/plain": [
       "       LIMIT_BAL   AGE  PAY_0  PAY_2  PAY_3  PAY_4  PAY_5  PAY_6  BILL_AMT1  \\\n",
       "0        20000.0  24.0    2.0    2.0   -1.0   -1.0   -2.0   -2.0     3913.0   \n",
       "1       120000.0  26.0   -1.0    2.0    0.0    0.0    0.0    2.0     2682.0   \n",
       "2        90000.0  34.0    0.0    0.0    0.0    0.0    0.0    0.0    29239.0   \n",
       "3        50000.0  37.0    0.0    0.0    0.0    0.0    0.0    0.0    46990.0   \n",
       "4        50000.0  57.0   -1.0    0.0   -1.0    0.0    0.0    0.0     8617.0   \n",
       "...          ...   ...    ...    ...    ...    ...    ...    ...        ...   \n",
       "29995   220000.0  39.0    0.0    0.0    0.0    0.0    0.0    0.0   188948.0   \n",
       "29996   150000.0  43.0   -1.0   -1.0   -1.0   -1.0    0.0    0.0     1683.0   \n",
       "29997    30000.0  37.0    3.0    3.0    2.0   -1.0    0.0    0.0     3565.0   \n",
       "29998    80000.0  41.0    1.0   -1.0    0.0    0.0    0.0   -1.0      -81.0   \n",
       "29999    50000.0  46.0    0.0    0.0    0.0    0.0    0.0    0.0    47929.0   \n",
       "\n",
       "       BILL_AMT2  ...  Fraud  SEX_1  SEX_2  EDUCATION_1  EDUCATION_2  \\\n",
       "0         3102.0  ...      1      0      1            0            1   \n",
       "1         1725.0  ...      1      0      1            0            1   \n",
       "2        14027.0  ...      0      0      1            0            1   \n",
       "3        48233.0  ...      0      0      1            0            1   \n",
       "4         5670.0  ...      0      1      0            0            1   \n",
       "...          ...  ...    ...    ...    ...          ...          ...   \n",
       "29995   192815.0  ...      0      1      0            0            0   \n",
       "29996     1828.0  ...      0      1      0            0            0   \n",
       "29997     3356.0  ...      1      1      0            0            1   \n",
       "29998    78379.0  ...      1      1      0            0            0   \n",
       "29999    48905.0  ...      1      1      0            0            1   \n",
       "\n",
       "       EDUCATION_3  EDUCATION_4  MARRIAGE_1  MARRIAGE_2  MARRIAGE_3  \n",
       "0                0            0           1           0           0  \n",
       "1                0            0           0           1           0  \n",
       "2                0            0           0           1           0  \n",
       "3                0            0           1           0           0  \n",
       "4                0            0           1           0           0  \n",
       "...            ...          ...         ...         ...         ...  \n",
       "29995            1            0           1           0           0  \n",
       "29996            1            0           0           1           0  \n",
       "29997            0            0           0           1           0  \n",
       "29998            1            0           1           0           0  \n",
       "29999            0            0           1           0           0  \n",
       "\n",
       "[30000 rows x 30 columns]"
      ]
     },
     "execution_count": 28,
     "metadata": {},
     "output_type": "execute_result"
    }
   ],
   "source": [
    "df1"
   ]
  },
  {
   "cell_type": "markdown",
   "id": "37cd1f02",
   "metadata": {
    "papermill": {
     "duration": 0.07705,
     "end_time": "2022-04-29T19:36:45.076135",
     "exception": false,
     "start_time": "2022-04-29T19:36:44.999085",
     "status": "completed"
    },
    "tags": []
   },
   "source": [
    "### Splitting the data into train & test"
   ]
  },
  {
   "cell_type": "code",
   "execution_count": 29,
   "id": "73094aec",
   "metadata": {},
   "outputs": [],
   "source": [
    "from sklearn.metrics import confusion_matrix, accuracy_score, precision_score, recall_score, f1_score\n",
    "\n",
    "def evaluate_model(y_test, y_pred):\n",
    "    print(\"Accuracy Score: \", accuracy_score(y_test, y_pred))\n",
    "    print(\"Precision Score: \", precision_score(y_test, y_pred))\n",
    "    print(\"Recall Score: \", recall_score(y_test, y_pred))\n",
    "    print(\"Confusion Matrix: \", confusion_matrix(y_test, y_pred))\n",
    "    print(\"F1 Score: \", f1_score(y_test,y_pred))\n",
    "    \n",
    "    df = {'y_Actual': y_test, 'y_Predicted': y_pred}\n",
    "\n",
    "    df1 = pd.DataFrame(df, columns = ['y_Actual','y_Predicted'])\n",
    "\n",
    "    clf_confusion_matrix = pd.crosstab(df['y_Predicted'], df['y_Actual'], rownames = ['Predicted'], colnames=['Actual'])\n",
    "\n",
    "    sns.heatmap(clf_confusion_matrix, annot=True)\n",
    "    plt.savefig('conf1.png')"
   ]
  },
  {
   "cell_type": "code",
   "execution_count": 34,
   "id": "3f86ff05",
   "metadata": {
    "execution": {
     "iopub.execute_input": "2022-04-29T19:36:45.233486Z",
     "iopub.status.busy": "2022-04-29T19:36:45.232941Z",
     "iopub.status.idle": "2022-04-29T19:36:45.243115Z",
     "shell.execute_reply": "2022-04-29T19:36:45.242199Z"
    },
    "papermill": {
     "duration": 0.090997,
     "end_time": "2022-04-29T19:36:45.245355",
     "exception": false,
     "start_time": "2022-04-29T19:36:45.154358",
     "status": "completed"
    },
    "tags": []
   },
   "outputs": [],
   "source": [
    "target = df1.Fraud\n",
    "features = df1.drop('Fraud', axis=1)\n",
    "data_final = pd.concat([features, target], axis=1)"
   ]
  },
  {
   "cell_type": "code",
   "execution_count": 35,
   "id": "1f8665dd",
   "metadata": {
    "execution": {
     "iopub.execute_input": "2022-04-29T19:36:45.400038Z",
     "iopub.status.busy": "2022-04-29T19:36:45.399229Z",
     "iopub.status.idle": "2022-04-29T19:36:45.414314Z",
     "shell.execute_reply": "2022-04-29T19:36:45.413490Z"
    },
    "papermill": {
     "duration": 0.095243,
     "end_time": "2022-04-29T19:36:45.416730",
     "exception": false,
     "start_time": "2022-04-29T19:36:45.321487",
     "status": "completed"
    },
    "tags": []
   },
   "outputs": [],
   "source": [
    "#Splitting the data for sklearn methods\n",
    "train_y, test_y, train_X, test_X = train_test_split(target,features, test_size=0.3, random_state=123)"
   ]
  },
  {
   "cell_type": "code",
   "execution_count": 36,
   "id": "4ce2a41e",
   "metadata": {},
   "outputs": [
    {
     "data": {
      "text/plain": [
       "0    1\n",
       "1    1\n",
       "2    0\n",
       "3    0\n",
       "4    0\n",
       "Name: Fraud, dtype: int64"
      ]
     },
     "execution_count": 36,
     "metadata": {},
     "output_type": "execute_result"
    }
   ],
   "source": [
    "target.head()"
   ]
  },
  {
   "cell_type": "code",
   "execution_count": null,
   "id": "587585f9",
   "metadata": {},
   "outputs": [],
   "source": []
  },
  {
   "cell_type": "markdown",
   "id": "860512bb",
   "metadata": {
    "papermill": {
     "duration": 0.07501,
     "end_time": "2022-04-29T19:36:45.568621",
     "exception": false,
     "start_time": "2022-04-29T19:36:45.493611",
     "status": "completed"
    },
    "tags": []
   },
   "source": [
    "### Logistic Regression"
   ]
  },
  {
   "cell_type": "code",
   "execution_count": 37,
   "id": "f826c21f",
   "metadata": {
    "execution": {
     "iopub.execute_input": "2022-04-29T19:36:45.721636Z",
     "iopub.status.busy": "2022-04-29T19:36:45.721364Z",
     "iopub.status.idle": "2022-04-29T19:36:46.184640Z",
     "shell.execute_reply": "2022-04-29T19:36:46.183657Z"
    },
    "papermill": {
     "duration": 0.543982,
     "end_time": "2022-04-29T19:36:46.188018",
     "exception": false,
     "start_time": "2022-04-29T19:36:45.644036",
     "status": "completed"
    },
    "tags": []
   },
   "outputs": [
    {
     "name": "stdout",
     "output_type": "stream",
     "text": [
      "Accuracy Score:  0.7838888888888889\n",
      "Precision Score:  0.8\n",
      "Recall Score:  0.002053388090349076\n",
      "Confusion Matrix:  [[7051    1]\n",
      " [1944    4]]\n",
      "F1 Score:  0.00409626216077829\n"
     ]
    },
    {
     "data": {
      "image/png": "[encoded data removed]",
      "text/plain": [
       "<Figure size 432x288 with 2 Axes>"
      ]
     },
     "metadata": {
      "needs_background": "light"
     },
     "output_type": "display_data"
    }
   ],
   "source": [
    "#accuracy={}\n",
    "model = LogisticRegression()\n",
    "model.fit(train_X, train_y)\n",
    "\n",
    "#train_pred = model.predict(train_X)\n",
    "test_pred = model.predict(test_X)\n",
    "\n",
    "#print(classification_report(train_pred, train_y))\n",
    "#print('\\nAccuracy Score for model1(training): ', accuracy_score(train_pred, train_y))\n",
    "\n",
    "#print(classification_report(test_pred, test_y))\n",
    "#print('\\nAccuracy Score for model1(testing): ', accuracy_score(test_pred, test_y))\n",
    "\n",
    "evaluate_model(test_y, test_pred)"
   ]
  },
  {
   "cell_type": "markdown",
   "id": "f048c411",
   "metadata": {
    "papermill": {
     "duration": 0.076318,
     "end_time": "2022-04-29T19:36:46.347594",
     "exception": false,
     "start_time": "2022-04-29T19:36:46.271276",
     "status": "completed"
    },
    "tags": []
   },
   "source": [
    "### KNN"
   ]
  },
  {
   "cell_type": "code",
   "execution_count": 38,
   "id": "71544617",
   "metadata": {
    "execution": {
     "iopub.execute_input": "2022-04-29T19:36:46.502279Z",
     "iopub.status.busy": "2022-04-29T19:36:46.501779Z",
     "iopub.status.idle": "2022-04-29T19:36:46.522393Z",
     "shell.execute_reply": "2022-04-29T19:36:46.521495Z"
    },
    "papermill": {
     "duration": 0.101446,
     "end_time": "2022-04-29T19:36:46.524869",
     "exception": false,
     "start_time": "2022-04-29T19:36:46.423423",
     "status": "completed"
    },
    "tags": []
   },
   "outputs": [],
   "source": [
    "#Standardization of data\n",
    "sc = StandardScaler()\n",
    "std_data = sc.fit_transform(train_X)"
   ]
  },
  {
   "cell_type": "code",
   "execution_count": 39,
   "id": "7c40b91d",
   "metadata": {
    "execution": {
     "iopub.execute_input": "2022-04-29T19:36:46.679447Z",
     "iopub.status.busy": "2022-04-29T19:36:46.678854Z",
     "iopub.status.idle": "2022-04-29T19:36:46.687559Z",
     "shell.execute_reply": "2022-04-29T19:36:46.686912Z"
    },
    "papermill": {
     "duration": 0.087942,
     "end_time": "2022-04-29T19:36:46.689750",
     "exception": false,
     "start_time": "2022-04-29T19:36:46.601808",
     "status": "completed"
    },
    "tags": []
   },
   "outputs": [],
   "source": [
    "std_data_train = pd.DataFrame(std_data, columns=train_X.columns, index = train_X.index )\n",
    "std_data_test = pd.DataFrame(sc.transform(test_X), columns=test_X.columns, index = test_X.index )"
   ]
  },
  {
   "cell_type": "code",
   "execution_count": 40,
   "id": "788dda5d",
   "metadata": {
    "execution": {
     "iopub.execute_input": "2022-04-29T19:36:46.843246Z",
     "iopub.status.busy": "2022-04-29T19:36:46.842946Z",
     "iopub.status.idle": "2022-04-29T19:39:23.496243Z",
     "shell.execute_reply": "2022-04-29T19:39:23.495310Z"
    },
    "papermill": {
     "duration": 156.732868,
     "end_time": "2022-04-29T19:39:23.498724",
     "exception": false,
     "start_time": "2022-04-29T19:36:46.765856",
     "status": "completed"
    },
    "tags": []
   },
   "outputs": [],
   "source": [
    "#Using GridsearchCV with standrardized data\n",
    "param_grid = {'n_neighbors':[3,4,5,6,7,8,9,10,11,12],\n",
    "              'weights': ['uniform', 'distance']}\n",
    "model = GridSearchCV(KNeighborsClassifier(), param_grid = param_grid, cv=5, scoring = 'f1_weighted')\n",
    "model = model.fit(std_data_train, train_y)"
   ]
  },
  {
   "cell_type": "code",
   "execution_count": 41,
   "id": "3729069b",
   "metadata": {
    "execution": {
     "iopub.execute_input": "2022-04-29T19:39:23.653264Z",
     "iopub.status.busy": "2022-04-29T19:39:23.652479Z",
     "iopub.status.idle": "2022-04-29T19:39:23.658335Z",
     "shell.execute_reply": "2022-04-29T19:39:23.657458Z"
    },
    "papermill": {
     "duration": 0.084437,
     "end_time": "2022-04-29T19:39:23.660356",
     "exception": false,
     "start_time": "2022-04-29T19:39:23.575919",
     "status": "completed"
    },
    "tags": []
   },
   "outputs": [
    {
     "data": {
      "text/plain": [
       "0.7801456177979154"
      ]
     },
     "execution_count": 41,
     "metadata": {},
     "output_type": "execute_result"
    }
   ],
   "source": [
    "model.best_score_"
   ]
  },
  {
   "cell_type": "code",
   "execution_count": 42,
   "id": "068baf2e",
   "metadata": {
    "execution": {
     "iopub.execute_input": "2022-04-29T19:39:23.814296Z",
     "iopub.status.busy": "2022-04-29T19:39:23.813806Z",
     "iopub.status.idle": "2022-04-29T19:39:23.819995Z",
     "shell.execute_reply": "2022-04-29T19:39:23.819121Z"
    },
    "papermill": {
     "duration": 0.08607,
     "end_time": "2022-04-29T19:39:23.822437",
     "exception": false,
     "start_time": "2022-04-29T19:39:23.736367",
     "status": "completed"
    },
    "tags": []
   },
   "outputs": [
    {
     "data": {
      "text/plain": [
       "{'n_neighbors': 10, 'weights': 'distance'}"
      ]
     },
     "execution_count": 42,
     "metadata": {},
     "output_type": "execute_result"
    }
   ],
   "source": [
    "model.best_params_"
   ]
  },
  {
   "cell_type": "code",
   "execution_count": 43,
   "id": "e0e06c20",
   "metadata": {
    "execution": {
     "iopub.execute_input": "2022-04-29T19:39:23.978955Z",
     "iopub.status.busy": "2022-04-29T19:39:23.978219Z",
     "iopub.status.idle": "2022-04-29T19:39:37.527531Z",
     "shell.execute_reply": "2022-04-29T19:39:37.526551Z"
    },
    "papermill": {
     "duration": 13.630333,
     "end_time": "2022-04-29T19:39:37.530400",
     "exception": false,
     "start_time": "2022-04-29T19:39:23.900067",
     "status": "completed"
    },
    "tags": []
   },
   "outputs": [],
   "source": [
    "train_pred2 = model.predict(std_data_train)\n",
    "test_pred2 = model.predict(std_data_test)"
   ]
  },
  {
   "cell_type": "code",
   "execution_count": 44,
   "id": "a77334c3",
   "metadata": {
    "execution": {
     "iopub.execute_input": "2022-04-29T19:39:37.686488Z",
     "iopub.status.busy": "2022-04-29T19:39:37.686214Z",
     "iopub.status.idle": "2022-04-29T19:39:37.754297Z",
     "shell.execute_reply": "2022-04-29T19:39:37.753416Z"
    },
    "papermill": {
     "duration": 0.149703,
     "end_time": "2022-04-29T19:39:37.758398",
     "exception": false,
     "start_time": "2022-04-29T19:39:37.608695",
     "status": "completed"
    },
    "tags": []
   },
   "outputs": [
    {
     "name": "stdout",
     "output_type": "stream",
     "text": [
      "              precision    recall  f1-score   support\n",
      "\n",
      "           0       1.00      1.00      1.00     16312\n",
      "           1       1.00      1.00      1.00      4688\n",
      "\n",
      "    accuracy                           1.00     21000\n",
      "   macro avg       1.00      1.00      1.00     21000\n",
      "weighted avg       1.00      1.00      1.00     21000\n",
      "\n",
      "\n",
      "Accuracy Score for model2(training):  0.9992857142857143\n",
      "              precision    recall  f1-score   support\n",
      "\n",
      "           0       0.83      0.94      0.88      7052\n",
      "           1       0.59      0.33      0.42      1948\n",
      "\n",
      "    accuracy                           0.80      9000\n",
      "   macro avg       0.71      0.63      0.65      9000\n",
      "weighted avg       0.78      0.80      0.78      9000\n",
      "\n",
      "\n",
      "Accuracy Score for model2(testing):  0.8042222222222222\n",
      "Accuracy Score:  0.8042222222222222\n",
      "Precision Score:  0.5857933579335793\n",
      "Recall Score:  0.3259753593429158\n",
      "Confusion Matrix:  [[6603  449]\n",
      " [1313  635]]\n",
      "F1 Score:  0.41886543535620047\n"
     ]
    },
    {
     "data": {
      "image/png": "[encoded data removed]",
      "text/plain": [
       "<Figure size 432x288 with 2 Axes>"
      ]
     },
     "metadata": {
      "needs_background": "light"
     },
     "output_type": "display_data"
    }
   ],
   "source": [
    "print(metrics.classification_report(train_y, train_pred2))\n",
    "print('\\nAccuracy Score for model2(training): ', accuracy_score(train_pred2, train_y))\n",
    "\n",
    "print(metrics.classification_report(test_y, test_pred2))\n",
    "print('\\nAccuracy Score for model2(testing): ', accuracy_score(test_pred2, test_y))\n",
    "\n",
    "evaluate_model(test_y, test_pred2)"
   ]
  },
  {
   "cell_type": "markdown",
   "id": "0954caca",
   "metadata": {
    "papermill": {
     "duration": 0.082437,
     "end_time": "2022-04-29T19:39:37.929913",
     "exception": false,
     "start_time": "2022-04-29T19:39:37.847476",
     "status": "completed"
    },
    "tags": []
   },
   "source": [
    "### Decision Tree"
   ]
  },
  {
   "cell_type": "code",
   "execution_count": 45,
   "id": "18e141bf",
   "metadata": {
    "execution": {
     "iopub.execute_input": "2022-04-29T19:39:38.096407Z",
     "iopub.status.busy": "2022-04-29T19:39:38.096097Z",
     "iopub.status.idle": "2022-04-29T19:39:38.100302Z",
     "shell.execute_reply": "2022-04-29T19:39:38.099473Z"
    },
    "papermill": {
     "duration": 0.08935,
     "end_time": "2022-04-29T19:39:38.102353",
     "exception": false,
     "start_time": "2022-04-29T19:39:38.013003",
     "status": "completed"
    },
    "tags": []
   },
   "outputs": [],
   "source": [
    "param_grid = {'max_depth': np.arange(3, 5),\n",
    "             'max_features': np.arange(3,5)}"
   ]
  },
  {
   "cell_type": "code",
   "execution_count": 46,
   "id": "fd373829",
   "metadata": {
    "execution": {
     "iopub.execute_input": "2022-04-29T19:39:38.271416Z",
     "iopub.status.busy": "2022-04-29T19:39:38.270967Z",
     "iopub.status.idle": "2022-04-29T19:39:38.751346Z",
     "shell.execute_reply": "2022-04-29T19:39:38.750521Z"
    },
    "papermill": {
     "duration": 0.565448,
     "end_time": "2022-04-29T19:39:38.753462",
     "exception": false,
     "start_time": "2022-04-29T19:39:38.188014",
     "status": "completed"
    },
    "tags": []
   },
   "outputs": [
    {
     "data": {
      "text/plain": [
       "GridSearchCV(cv=5, estimator=DecisionTreeClassifier(),\n",
       "             param_grid={'max_depth': array([3, 4]),\n",
       "                         'max_features': array([3, 4])})"
      ]
     },
     "execution_count": 46,
     "metadata": {},
     "output_type": "execute_result"
    }
   ],
   "source": [
    "tree = GridSearchCV(DecisionTreeClassifier(), param_grid, cv = 5)\n",
    "tree.fit( train_X, train_y )"
   ]
  },
  {
   "cell_type": "code",
   "execution_count": 47,
   "id": "30640dcc",
   "metadata": {
    "execution": {
     "iopub.execute_input": "2022-04-29T19:39:38.909353Z",
     "iopub.status.busy": "2022-04-29T19:39:38.908926Z",
     "iopub.status.idle": "2022-04-29T19:39:38.914072Z",
     "shell.execute_reply": "2022-04-29T19:39:38.913529Z"
    },
    "papermill": {
     "duration": 0.084868,
     "end_time": "2022-04-29T19:39:38.915844",
     "exception": false,
     "start_time": "2022-04-29T19:39:38.830976",
     "status": "completed"
    },
    "tags": []
   },
   "outputs": [
    {
     "data": {
      "text/plain": [
       "0.8075714285714286"
      ]
     },
     "execution_count": 47,
     "metadata": {},
     "output_type": "execute_result"
    }
   ],
   "source": [
    "tree.best_score_"
   ]
  },
  {
   "cell_type": "code",
   "execution_count": 48,
   "id": "5015b0a9",
   "metadata": {
    "execution": {
     "iopub.execute_input": "2022-04-29T19:39:39.075773Z",
     "iopub.status.busy": "2022-04-29T19:39:39.075227Z",
     "iopub.status.idle": "2022-04-29T19:39:39.080584Z",
     "shell.execute_reply": "2022-04-29T19:39:39.080027Z"
    },
    "papermill": {
     "duration": 0.088113,
     "end_time": "2022-04-29T19:39:39.082379",
     "exception": false,
     "start_time": "2022-04-29T19:39:38.994266",
     "status": "completed"
    },
    "tags": []
   },
   "outputs": [
    {
     "data": {
      "text/plain": [
       "{'max_depth': 3, 'max_features': 4}"
      ]
     },
     "execution_count": 48,
     "metadata": {},
     "output_type": "execute_result"
    }
   ],
   "source": [
    "tree.best_params_"
   ]
  },
  {
   "cell_type": "code",
   "execution_count": 49,
   "id": "2d11c2c6",
   "metadata": {
    "execution": {
     "iopub.execute_input": "2022-04-29T19:39:39.240336Z",
     "iopub.status.busy": "2022-04-29T19:39:39.239819Z",
     "iopub.status.idle": "2022-04-29T19:39:39.272229Z",
     "shell.execute_reply": "2022-04-29T19:39:39.271607Z"
    },
    "papermill": {
     "duration": 0.114139,
     "end_time": "2022-04-29T19:39:39.274208",
     "exception": false,
     "start_time": "2022-04-29T19:39:39.160069",
     "status": "completed"
    },
    "tags": []
   },
   "outputs": [
    {
     "data": {
      "text/plain": [
       "DecisionTreeClassifier(max_depth=3, max_features=4)"
      ]
     },
     "execution_count": 49,
     "metadata": {},
     "output_type": "execute_result"
    }
   ],
   "source": [
    "clf_tree = DecisionTreeClassifier( max_depth = 3, max_features=4, criterion='gini' )\n",
    "train_X = train_X[train_X.columns.difference(['pred_prob'])]\n",
    "test_X = test_X[test_X.columns.difference(['pred_prob'])]\n",
    "clf_tree.fit( train_X, train_y )"
   ]
  },
  {
   "cell_type": "code",
   "execution_count": 50,
   "id": "27ccb2f8",
   "metadata": {
    "execution": {
     "iopub.execute_input": "2022-04-29T19:39:39.456339Z",
     "iopub.status.busy": "2022-04-29T19:39:39.455797Z",
     "iopub.status.idle": "2022-04-29T19:39:39.467507Z",
     "shell.execute_reply": "2022-04-29T19:39:39.466869Z"
    },
    "papermill": {
     "duration": 0.100128,
     "end_time": "2022-04-29T19:39:39.469729",
     "exception": false,
     "start_time": "2022-04-29T19:39:39.369601",
     "status": "completed"
    },
    "tags": []
   },
   "outputs": [],
   "source": [
    "train_pred1 = clf_tree.predict(train_X)\n",
    "test_pred1 = clf_tree.predict(test_X)"
   ]
  },
  {
   "cell_type": "code",
   "execution_count": 51,
   "id": "12e5529d",
   "metadata": {
    "execution": {
     "iopub.execute_input": "2022-04-29T19:39:39.628811Z",
     "iopub.status.busy": "2022-04-29T19:39:39.628243Z",
     "iopub.status.idle": "2022-04-29T19:39:39.695958Z",
     "shell.execute_reply": "2022-04-29T19:39:39.694841Z"
    },
    "papermill": {
     "duration": 0.150559,
     "end_time": "2022-04-29T19:39:39.698462",
     "exception": false,
     "start_time": "2022-04-29T19:39:39.547903",
     "status": "completed"
    },
    "tags": []
   },
   "outputs": [
    {
     "name": "stdout",
     "output_type": "stream",
     "text": [
      "              precision    recall  f1-score   support\n",
      "\n",
      "           0       0.82      0.95      0.88     16312\n",
      "           1       0.64      0.28      0.39      4688\n",
      "\n",
      "    accuracy                           0.80     21000\n",
      "   macro avg       0.73      0.62      0.63     21000\n",
      "weighted avg       0.78      0.80      0.77     21000\n",
      "\n",
      "\n",
      "Accuracy Score for model3(training):  0.8035238095238095\n",
      "              precision    recall  f1-score   support\n",
      "\n",
      "           0       0.82      0.95      0.88      7052\n",
      "           1       0.59      0.27      0.37      1948\n",
      "\n",
      "    accuracy                           0.80      9000\n",
      "   macro avg       0.71      0.61      0.63      9000\n",
      "weighted avg       0.77      0.80      0.77      9000\n",
      "\n",
      "\n",
      "Accuracy Score for model3(testing):  0.8016666666666666\n",
      "Accuracy Score:  0.8016666666666666\n",
      "Precision Score:  0.5912653975363942\n",
      "Recall Score:  0.27104722792607805\n",
      "Confusion Matrix:  [[6687  365]\n",
      " [1420  528]]\n",
      "F1 Score:  0.371700105596621\n"
     ]
    },
    {
     "data": {
      "image/png": "[encoded data removed]",
      "text/plain": [
       "<Figure size 432x288 with 2 Axes>"
      ]
     },
     "metadata": {
      "needs_background": "light"
     },
     "output_type": "display_data"
    }
   ],
   "source": [
    "print(metrics.classification_report(train_y, train_pred1))\n",
    "print('\\nAccuracy Score for model3(training): ', accuracy_score(train_pred1, train_y))\n",
    "\n",
    "print(metrics.classification_report(test_y, test_pred1))\n",
    "print('\\nAccuracy Score for model3(testing): ', accuracy_score(test_pred1, test_y))\n",
    "evaluate_model(test_y, test_pred1)"
   ]
  },
  {
   "cell_type": "markdown",
   "id": "f7e5b975",
   "metadata": {
    "papermill": {
     "duration": 0.079748,
     "end_time": "2022-04-29T19:39:39.857162",
     "exception": false,
     "start_time": "2022-04-29T19:39:39.777414",
     "status": "completed"
    },
    "tags": []
   },
   "source": [
    "### Naive Bayes"
   ]
  },
  {
   "cell_type": "code",
   "execution_count": 52,
   "id": "b8c25f15",
   "metadata": {
    "execution": {
     "iopub.execute_input": "2022-04-29T19:39:40.016219Z",
     "iopub.status.busy": "2022-04-29T19:39:40.015925Z",
     "iopub.status.idle": "2022-04-29T19:39:40.037582Z",
     "shell.execute_reply": "2022-04-29T19:39:40.036762Z"
    },
    "papermill": {
     "duration": 0.103696,
     "end_time": "2022-04-29T19:39:40.039654",
     "exception": false,
     "start_time": "2022-04-29T19:39:39.935958",
     "status": "completed"
    },
    "tags": []
   },
   "outputs": [
    {
     "data": {
      "text/plain": [
       "GaussianNB()"
      ]
     },
     "execution_count": 52,
     "metadata": {},
     "output_type": "execute_result"
    }
   ],
   "source": [
    "nb_clf = GaussianNB()\n",
    "nb_clf.fit(train_X, train_y)"
   ]
  },
  {
   "cell_type": "code",
   "execution_count": 53,
   "id": "ec0c075f",
   "metadata": {
    "execution": {
     "iopub.execute_input": "2022-04-29T19:39:40.199441Z",
     "iopub.status.busy": "2022-04-29T19:39:40.198880Z",
     "iopub.status.idle": "2022-04-29T19:39:40.224468Z",
     "shell.execute_reply": "2022-04-29T19:39:40.223810Z"
    },
    "papermill": {
     "duration": 0.108163,
     "end_time": "2022-04-29T19:39:40.226626",
     "exception": false,
     "start_time": "2022-04-29T19:39:40.118463",
     "status": "completed"
    },
    "tags": []
   },
   "outputs": [],
   "source": [
    "train_pred4=nb_clf.predict(train_X)\n",
    "test_pred4=nb_clf.predict(test_X)"
   ]
  },
  {
   "cell_type": "code",
   "execution_count": 54,
   "id": "e80d5aed",
   "metadata": {
    "execution": {
     "iopub.execute_input": "2022-04-29T19:39:40.390637Z",
     "iopub.status.busy": "2022-04-29T19:39:40.390113Z",
     "iopub.status.idle": "2022-04-29T19:39:40.461840Z",
     "shell.execute_reply": "2022-04-29T19:39:40.461196Z"
    },
    "papermill": {
     "duration": 0.156453,
     "end_time": "2022-04-29T19:39:40.464380",
     "exception": false,
     "start_time": "2022-04-29T19:39:40.307927",
     "status": "completed"
    },
    "tags": []
   },
   "outputs": [
    {
     "name": "stdout",
     "output_type": "stream",
     "text": [
      "              precision    recall  f1-score   support\n",
      "\n",
      "           0       0.86      0.35      0.49     16312\n",
      "           1       0.26      0.80      0.39      4688\n",
      "\n",
      "    accuracy                           0.45     21000\n",
      "   macro avg       0.56      0.58      0.44     21000\n",
      "weighted avg       0.73      0.45      0.47     21000\n",
      "\n",
      "\n",
      "Accuracy Score for model4(training):  0.4481904761904762\n",
      "              precision    recall  f1-score   support\n",
      "\n",
      "           0       0.87      0.35      0.50      7052\n",
      "           1       0.26      0.81      0.39      1948\n",
      "\n",
      "    accuracy                           0.45      9000\n",
      "   macro avg       0.56      0.58      0.44      9000\n",
      "weighted avg       0.74      0.45      0.47      9000\n",
      "\n",
      "\n",
      "Accuracy Score for model4(testing):  0.4481904761904762\n",
      "Accuracy Score:  0.44755555555555554\n",
      "Precision Score:  0.25533980582524274\n",
      "Recall Score:  0.8100616016427105\n",
      "Confusion Matrix:  [[2450 4602]\n",
      " [ 370 1578]]\n",
      "F1 Score:  0.3882874015748032\n"
     ]
    },
    {
     "data": {
      "image/png": "[encoded data removed]",
      "text/plain": [
       "<Figure size 432x288 with 2 Axes>"
      ]
     },
     "metadata": {
      "needs_background": "light"
     },
     "output_type": "display_data"
    }
   ],
   "source": [
    "print(metrics.classification_report(train_y, train_pred4))\n",
    "print('\\nAccuracy Score for model4(training): ', accuracy_score(train_pred4, train_y))\n",
    "\n",
    "print(metrics.classification_report(test_y, test_pred4))\n",
    "print('\\nAccuracy Score for model4(testing): ', accuracy_score(train_pred4, train_y))\n",
    "evaluate_model(test_y, test_pred4)"
   ]
  },
  {
   "cell_type": "markdown",
   "id": "6e576976",
   "metadata": {
    "papermill": {
     "duration": 0.080322,
     "end_time": "2022-04-29T19:39:40.624457",
     "exception": false,
     "start_time": "2022-04-29T19:39:40.544135",
     "status": "completed"
    },
    "tags": []
   },
   "source": [
    "### Random Forest"
   ]
  },
  {
   "cell_type": "code",
   "execution_count": 55,
   "id": "3ccfc16d",
   "metadata": {
    "execution": {
     "iopub.execute_input": "2022-04-29T19:39:40.787835Z",
     "iopub.status.busy": "2022-04-29T19:39:40.787265Z",
     "iopub.status.idle": "2022-04-29T19:39:42.383625Z",
     "shell.execute_reply": "2022-04-29T19:39:42.382769Z"
    },
    "papermill": {
     "duration": 1.679945,
     "end_time": "2022-04-29T19:39:42.385800",
     "exception": false,
     "start_time": "2022-04-29T19:39:40.705855",
     "status": "completed"
    },
    "tags": []
   },
   "outputs": [
    {
     "data": {
      "text/plain": [
       "RandomForestClassifier(max_depth=10, max_features=4, n_jobs=-1, oob_score=True)"
      ]
     },
     "execution_count": 55,
     "metadata": {},
     "output_type": "execute_result"
    }
   ],
   "source": [
    "from sklearn.ensemble import RandomForestClassifier\n",
    "\n",
    "radm_clf = RandomForestClassifier(oob_score=True,n_estimators=100 , max_depth = 10, max_features=4, n_jobs=-1)\n",
    "radm_clf.fit( train_X, train_y )"
   ]
  },
  {
   "cell_type": "code",
   "execution_count": 56,
   "id": "44ac5bf5",
   "metadata": {
    "execution": {
     "iopub.execute_input": "2022-04-29T19:39:42.547339Z",
     "iopub.status.busy": "2022-04-29T19:39:42.547044Z",
     "iopub.status.idle": "2022-04-29T19:39:42.863553Z",
     "shell.execute_reply": "2022-04-29T19:39:42.862623Z"
    },
    "papermill": {
     "duration": 0.400491,
     "end_time": "2022-04-29T19:39:42.866062",
     "exception": false,
     "start_time": "2022-04-29T19:39:42.465571",
     "status": "completed"
    },
    "tags": []
   },
   "outputs": [],
   "source": [
    "train_pred5=radm_clf.predict(train_X)\n",
    "test_pred5=radm_clf.predict(test_X)"
   ]
  },
  {
   "cell_type": "code",
   "execution_count": 57,
   "id": "964e306c",
   "metadata": {
    "execution": {
     "iopub.execute_input": "2022-04-29T19:39:43.032963Z",
     "iopub.status.busy": "2022-04-29T19:39:43.032626Z",
     "iopub.status.idle": "2022-04-29T19:39:43.099336Z",
     "shell.execute_reply": "2022-04-29T19:39:43.098398Z"
    },
    "papermill": {
     "duration": 0.154744,
     "end_time": "2022-04-29T19:39:43.102017",
     "exception": false,
     "start_time": "2022-04-29T19:39:42.947273",
     "status": "completed"
    },
    "tags": []
   },
   "outputs": [
    {
     "name": "stdout",
     "output_type": "stream",
     "text": [
      "              precision    recall  f1-score   support\n",
      "\n",
      "           0       0.86      0.98      0.92     16312\n",
      "           1       0.85      0.46      0.59      4688\n",
      "\n",
      "    accuracy                           0.86     21000\n",
      "   macro avg       0.86      0.72      0.75     21000\n",
      "weighted avg       0.86      0.86      0.84     21000\n",
      "\n",
      "\n",
      "Accuracy Score for model5(training):  0.8606190476190476\n",
      "              precision    recall  f1-score   support\n",
      "\n",
      "           0       0.84      0.95      0.89      7052\n",
      "           1       0.66      0.36      0.47      1948\n",
      "\n",
      "    accuracy                           0.82      9000\n",
      "   macro avg       0.75      0.66      0.68      9000\n",
      "weighted avg       0.80      0.82      0.80      9000\n",
      "\n",
      "\n",
      "Accuracy Score for model5(testing):  0.8208888888888889\n",
      "Accuracy Score:  0.8208888888888889\n",
      "Precision Score:  0.6558441558441559\n",
      "Recall Score:  0.3629363449691992\n",
      "Confusion Matrix:  [[6681  371]\n",
      " [1241  707]]\n",
      "F1 Score:  0.4672835426305354\n"
     ]
    },
    {
     "data": {
      "image/png": "[encoded data removed]",
      "text/plain": [
       "<Figure size 432x288 with 2 Axes>"
      ]
     },
     "metadata": {
      "needs_background": "light"
     },
     "output_type": "display_data"
    }
   ],
   "source": [
    "print(metrics.classification_report(train_y, train_pred5))\n",
    "print('\\nAccuracy Score for model5(training): ', accuracy_score(train_pred5, train_y))\n",
    "\n",
    "print(metrics.classification_report(test_y, test_pred5))\n",
    "print('\\nAccuracy Score for model5(testing): ', accuracy_score(test_pred5, test_y))\n",
    "evaluate_model(test_y, test_pred5)"
   ]
  },
  {
   "cell_type": "code",
   "execution_count": null,
   "id": "7f5b42aa",
   "metadata": {},
   "outputs": [],
   "source": []
  },
  {
   "cell_type": "code",
   "execution_count": null,
   "id": "3824cd52",
   "metadata": {},
   "outputs": [],
   "source": []
  },
  {
   "cell_type": "code",
   "execution_count": 49,
   "id": "69a9851b",
   "metadata": {
    "execution": {
     "iopub.execute_input": "2022-04-29T19:39:43.266415Z",
     "iopub.status.busy": "2022-04-29T19:39:43.265899Z",
     "iopub.status.idle": "2022-04-29T19:39:43.287580Z",
     "shell.execute_reply": "2022-04-29T19:39:43.286884Z"
    },
    "papermill": {
     "duration": 0.10567,
     "end_time": "2022-04-29T19:39:43.289774",
     "exception": false,
     "start_time": "2022-04-29T19:39:43.184104",
     "status": "completed"
    },
    "tags": []
   },
   "outputs": [],
   "source": [
    "lr=accuracy_score(test_pred, test_y)*100\n",
    "knn=accuracy_score(test_pred2, test_y)*100\n",
    "dt=accuracy_score(test_pred1, test_y)*100\n",
    "rf=accuracy_score(test_pred5, test_y)*100\n",
    "nb=accuracy_score(test_pred4, test_y)*100\n",
    "\n",
    "lr1=accuracy_score(train_pred, train_y)*100\n",
    "knn1=accuracy_score(train_pred2, train_y)*100\n",
    "dt1=accuracy_score(train_pred1, train_y)*100\n",
    "rf1=accuracy_score(train_pred5, train_y)*100\n",
    "nb1=accuracy_score(train_pred4, train_y)*100"
   ]
  },
  {
   "cell_type": "code",
   "execution_count": 50,
   "id": "27bdb5c1",
   "metadata": {
    "execution": {
     "iopub.execute_input": "2022-04-29T19:39:43.452492Z",
     "iopub.status.busy": "2022-04-29T19:39:43.451927Z",
     "iopub.status.idle": "2022-04-29T19:39:43.456289Z",
     "shell.execute_reply": "2022-04-29T19:39:43.455673Z"
    },
    "papermill": {
     "duration": 0.087648,
     "end_time": "2022-04-29T19:39:43.458033",
     "exception": false,
     "start_time": "2022-04-29T19:39:43.370385",
     "status": "completed"
    },
    "tags": []
   },
   "outputs": [],
   "source": [
    "dict_train={\"Logistic Regression\":lr1, \"KNN\":knn1, \"Decision Tree\":dt1, \"Random Forest\":rf1, \"Naive Bayes\":nb1}\n",
    "dict_test={\"Logistic Regression\":lr, \"KNN\":knn, \"Decision Tree\":dt, \"Random Forest\":rf, \"Naive Bayes\":nb}"
   ]
  },
  {
   "cell_type": "code",
   "execution_count": 51,
   "id": "55a435eb",
   "metadata": {
    "execution": {
     "iopub.execute_input": "2022-04-29T19:39:43.620270Z",
     "iopub.status.busy": "2022-04-29T19:39:43.619745Z",
     "iopub.status.idle": "2022-04-29T19:39:43.853907Z",
     "shell.execute_reply": "2022-04-29T19:39:43.853147Z"
    },
    "papermill": {
     "duration": 0.317931,
     "end_time": "2022-04-29T19:39:43.856174",
     "exception": false,
     "start_time": "2022-04-29T19:39:43.538243",
     "status": "completed"
    },
    "tags": []
   },
   "outputs": [
    {
     "data": {
      "image/png": "[encoded data removed]",
      "text/plain": [
       "<Figure size 576x432 with 1 Axes>"
      ]
     },
     "metadata": {
      "needs_background": "light"
     },
     "output_type": "display_data"
    }
   ],
   "source": [
    "plot1=pd.DataFrame([dict_train,dict_test], index=['Train Accuracy','Test Accuracy']).transpose()\n",
    "\n",
    "plot1.plot(kind='bar',figsize=(8,6))\n",
    "plt.xlabel(\"Algorithm\",fontsize=15)\n",
    "plt.ylabel(\"Accuracy\",fontsize=15)\n",
    "plt.show()"
   ]
  },
  {
   "cell_type": "code",
   "execution_count": 58,
   "id": "78b2d54b",
   "metadata": {},
   "outputs": [
    {
     "name": "stdout",
     "output_type": "stream",
     "text": [
      "Collecting scikit-plot\n",
      "  Using cached scikit_plot-0.3.7-py3-none-any.whl (33 kB)\n"
     ]
    },
    {
     "name": "stderr",
     "output_type": "stream",
     "text": [
      "WARNING: Ignoring invalid distribution - (c:\\programdata\\anaconda3\\lib\\site-packages)\n",
      "WARNING: Ignoring invalid distribution -arkupsafe (c:\\programdata\\anaconda3\\lib\\site-packages)\n",
      "WARNING: Ignoring invalid distribution - (c:\\programdata\\anaconda3\\lib\\site-packages)\n",
      "WARNING: Ignoring invalid distribution -arkupsafe (c:\\programdata\\anaconda3\\lib\\site-packages)\n",
      "WARNING: Ignoring invalid distribution - (c:\\programdata\\anaconda3\\lib\\site-packages)\n",
      "WARNING: Ignoring invalid distribution -arkupsafe (c:\\programdata\\anaconda3\\lib\\site-packages)\n",
      "WARNING: Ignoring invalid distribution - (c:\\programdata\\anaconda3\\lib\\site-packages)\n",
      "WARNING: Ignoring invalid distribution -arkupsafe (c:\\programdata\\anaconda3\\lib\\site-packages)\n",
      "WARNING: Ignoring invalid distribution - (c:\\programdata\\anaconda3\\lib\\site-packages)\n",
      "WARNING: Ignoring invalid distribution -arkupsafe (c:\\programdata\\anaconda3\\lib\\site-packages)\n",
      "WARNING: Ignoring invalid distribution - (c:\\programdata\\anaconda3\\lib\\site-packages)"
     ]
    },
    {
     "name": "stdout",
     "output_type": "stream",
     "text": [
      "Requirement already satisfied: matplotlib>=1.4.0 in c:\\programdata\\anaconda3\\lib\\site-packages (from scikit-plot) (3.4.3)\n",
      "Requirement already satisfied: scipy>=0.9 in c:\\programdata\\anaconda3\\lib\\site-packages (from scikit-plot) (1.7.1)\n",
      "Requirement already satisfied: joblib>=0.10 in c:\\programdata\\anaconda3\\lib\\site-packages (from scikit-plot) (1.1.0)\n",
      "Requirement already satisfied: scikit-learn>=0.18 in c:\\programdata\\anaconda3\\lib\\site-packages (from scikit-plot) (0.24.2)\n",
      "Requirement already satisfied: kiwisolver>=1.0.1 in c:\\programdata\\anaconda3\\lib\\site-packages (from matplotlib>=1.4.0->scikit-plot) (1.3.1)\n",
      "Requirement already satisfied: python-dateutil>=2.7 in c:\\programdata\\anaconda3\\lib\\site-packages (from matplotlib>=1.4.0->scikit-plot) (2.8.2)\n",
      "Requirement already satisfied: pillow>=6.2.0 in c:\\programdata\\anaconda3\\lib\\site-packages (from matplotlib>=1.4.0->scikit-plot) (8.4.0)\n",
      "Requirement already satisfied: cycler>=0.10 in c:\\programdata\\anaconda3\\lib\\site-packages (from matplotlib>=1.4.0->scikit-plot) (0.10.0)\n",
      "Requirement already satisfied: numpy>=1.16 in c:\\programdata\\anaconda3\\lib\\site-packages (from matplotlib>=1.4.0->scikit-plot) (1.20.3)\n",
      "Requirement already satisfied: pyparsing>=2.2.1 in c:\\programdata\\anaconda3\\lib\\site-packages (from matplotlib>=1.4.0->scikit-plot) (3.0.4)\n",
      "Requirement already satisfied: six in c:\\programdata\\anaconda3\\lib\\site-packages (from cycler>=0.10->matplotlib>=1.4.0->scikit-plot) (1.16.0)\n",
      "Requirement already satisfied: threadpoolctl>=2.0.0 in c:\\programdata\\anaconda3\\lib\\site-packages (from scikit-learn>=0.18->scikit-plot) (2.2.0)\n",
      "Installing collected packages: scikit-plot\n",
      "Successfully installed scikit-plot-0.3.7\n"
     ]
    },
    {
     "name": "stderr",
     "output_type": "stream",
     "text": [
      "\n",
      "WARNING: Ignoring invalid distribution -arkupsafe (c:\\programdata\\anaconda3\\lib\\site-packages)\n",
      "WARNING: Ignoring invalid distribution - (c:\\programdata\\anaconda3\\lib\\site-packages)\n",
      "WARNING: Ignoring invalid distribution -arkupsafe (c:\\programdata\\anaconda3\\lib\\site-packages)\n"
     ]
    }
   ],
   "source": [
    "!pip install scikit-plot"
   ]
  },
  {
   "cell_type": "code",
   "execution_count": null,
   "id": "f2f4d5f3",
   "metadata": {},
   "outputs": [],
   "source": []
  }
 ],
 "metadata": {
  "kernelspec": {
   "display_name": "Python 3 (ipykernel)",
   "language": "python",
   "name": "python3"
  },
  "language_info": {
   "codemirror_mode": {
    "name": "ipython",
    "version": 3
   },
   "file_extension": ".py",
   "mimetype": "text/x-python",
   "name": "python",
   "nbconvert_exporter": "python",
   "pygments_lexer": "ipython3",
   "version": "3.9.7"
  },
  "papermill": {
   "default_parameters": {},
   "duration": 201.167178,
   "end_time": "2022-04-29T19:39:44.759435",
   "environment_variables": {},
   "exception": null,
   "input_path": "__notebook__.ipynb",
   "output_path": "__notebook__.ipynb",
   "parameters": {},
   "start_time": "2022-04-29T19:36:23.592257",
   "version": "2.3.4"
  }
 },
 "nbformat": 4,
 "nbformat_minor": 5
}
